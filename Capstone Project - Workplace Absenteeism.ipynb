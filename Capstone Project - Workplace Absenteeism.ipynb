{
 "cells": [
  {
   "cell_type": "markdown",
   "metadata": {},
   "source": [
    "<center><h3>Capstone Project - Workplace Absenteeism</h3>\n",
    "Sara Maxwell<br>\n",
    "November 12, 2018</center>"
   ]
  },
  {
   "cell_type": "markdown",
   "metadata": {},
   "source": [
    "<h1>1. INTRODUCTION</h1>\n",
    "Absenteeism is the practice of regularly being absent from work. While employers expect employees to miss some days of work, excessive absenteeism can hurt productivity and the company's bottom line. If employers are more aware of the causes of absenteeism, they are likelier to take steps to alleviate the problems. The goal of this project is to determine the most common causes of absenteeism.<br><br>\n",
    "\n",
    "The main clients for this analysis are:\n",
    "\n",
    "* Business owners and managers: This data can help owners and managers take steps to improve their workplace environments.\n",
    "* Employees: This data can help workers take steps to make lifestyle changes that could reduce their amount of time spent away from work.\n",
    "* Public health officials: This data can help public officials make the general public more aware of the problem of workplace absenteeism and enact changes that could help businesses improve their workplace environments."
   ]
  },
  {
   "cell_type": "markdown",
   "metadata": {},
   "source": [
    "<h1>2. ABOUT THE DATA</h1>\n",
    "The data comes from the Machine Learning Repository at the University of California, Irvine, updated April 5, 2018. This data set contains 740 records of absenteeism at work from July 2007 to July 2010 at a Brazilian courier company, in 21 columns. This dataset was accessed from [http://archive.ics.uci.edu/ml/datasets/Absenteeism+at+work]. These are the factors of interest:\n",
    "\n",
    "* Reason for absence - absences recognized by the International Code of Diseases (21) and not recognized by ICD (7).\n",
    "* Day of the week\n",
    "* Season\n",
    "* Month of absence\n",
    "* Transportation expense\n",
    "* Distance from Residence to Work\n",
    "* Service time\n",
    "* Age\n",
    "* Disciplinary failure (binary with 1 for yes and 0 for no)\n",
    "* Education level\n",
    "* Number of children\n",
    "* Social drinker (binary)\n",
    "* Social smoker (binary)\n",
    "* Number of pets\n",
    "* Weight\n",
    "* Height\n",
    "* Body mass index\n",
    "* Number of hours absent"
   ]
  },
  {
   "cell_type": "markdown",
   "metadata": {},
   "source": [
    "<h1>3. DATA WRANGLING</h1>\n",
    "* The data is clean, so I made binary columns for regression analysis using one-hot encoding for 'Reason', 'Month of absence', 'Day of the week','Seasons', 'Disciplinary failure', 'Education', 'Social drinker', and 'Social smoker'.\n",
    "* I also renamed the new columns from the one-hot encoding and made the existing columns easier to understand. \n",
    "* The 'Absenteeism Time in Hours' is positively skewed, with the maximum value about two orders of magnitude higher than most values, so I added a new column with the hours absent logarithmically transformed. I also replaced the '-inf' values with zeroes."
   ]
  },
  {
   "cell_type": "code",
   "execution_count": 1,
   "metadata": {},
   "outputs": [],
   "source": [
    "# import modules\n",
    "import pandas as pd\n",
    "import numpy as np\n",
    "import csv\n",
    "import seaborn as sns\n",
    "import matplotlib.pyplot as plt\n",
    "import statistics"
   ]
  },
  {
   "cell_type": "code",
   "execution_count": 2,
   "metadata": {},
   "outputs": [],
   "source": [
    "# read dataset 'absenteeism at work'\n",
    "absenteeism_data = pd.read_csv('Absenteeism_at_work.csv', delimiter = ';')"
   ]
  },
  {
   "cell_type": "code",
   "execution_count": 3,
   "metadata": {},
   "outputs": [],
   "source": [
    "one_hot_columns = ['Reason for absence', 'Month of absence', 'Day of the week','Seasons', 'Disciplinary failure',\n",
    "                  'Education', 'Social drinker', 'Social smoker']"
   ]
  },
  {
   "cell_type": "code",
   "execution_count": 4,
   "metadata": {},
   "outputs": [
    {
     "name": "stdout",
     "output_type": "stream",
     "text": [
      "(740, 8)\n"
     ]
    }
   ],
   "source": [
    "# Convert the data to strings for the one-hot encoding to work\n",
    "\n",
    "foo = lambda x: str(x)\n",
    "one_hot_data = absenteeism_data[one_hot_columns].copy()\n",
    "print(one_hot_data.shape)\n",
    "\n",
    "for C in one_hot_data.columns:\n",
    "    one_hot_data[C]= one_hot_data[C].apply(foo)\n",
    "    \n",
    "one_hot_data = pd.get_dummies(one_hot_data)\n",
    "absenteeism_cleaned = one_hot_data.merge(absenteeism_data, left_index=True, right_index=True)"
   ]
  },
  {
   "cell_type": "code",
   "execution_count": 5,
   "metadata": {},
   "outputs": [
    {
     "name": "stderr",
     "output_type": "stream",
     "text": [
      "C:\\Users\\saraa\\Anaconda3\\lib\\site-packages\\ipykernel_launcher.py:2: RuntimeWarning: divide by zero encountered in log\n",
      "  \n",
      "C:\\Users\\saraa\\Anaconda3\\lib\\site-packages\\ipykernel_launcher.py:5: SettingWithCopyWarning: \n",
      "A value is trying to be set on a copy of a slice from a DataFrame\n",
      "\n",
      "See the caveats in the documentation: http://pandas.pydata.org/pandas-docs/stable/indexing.html#indexing-view-versus-copy\n",
      "  \"\"\"\n"
     ]
    }
   ],
   "source": [
    "#Logarithmic transformation of hours absent\n",
    "absenteeism_cleaned['Hours_Norm'] = np.log(absenteeism_cleaned['Absenteeism time in hours'])\n",
    "\n",
    "#Workaround of -inf in cells with zero hours\n",
    "absenteeism_cleaned['Hours_Norm'][absenteeism_cleaned['Hours_Norm']==-np.inf]=0"
   ]
  },
  {
   "cell_type": "code",
   "execution_count": 6,
   "metadata": {},
   "outputs": [],
   "source": [
    "#2. Change columns to make them easier to understand.\n",
    "absenteeism_cleaned = absenteeism_cleaned.rename({'Reason for absence_0':'Unknown','Reason for absence_1':'Infectious',\n",
    "                      'Reason for absence_2':'Neoplasms','Reason for absence_3':'Blood_or_Immune','Reason for absence_4':'Endocrine',\n",
    "                      'Reason for absence_5':'Mental','Reason for absence_6':'Nervous_system','Reason for absence_7':'Eye',\n",
    "                      'Reason for absence_8':'Ear','Reason for absence_9':'Circulatory','Reason for absence_10':'Respiratory',\n",
    "                      'Reason for absence_11':'Digestive','Reason for absence_12':'Skin','Reason for absence_13':'Musculoskeletal',\n",
    "                      'Reason for absence_14':'Genitourinary','Reason for absence_15':'Pregnancy','Reason for absence_16':'Perinatal',\n",
    "                      'Reason for absence_17':'Congenital','Reason for absence_18':'Other','Reason for absence_19':'Injury',\n",
    "                      'Reason for absence_20':'External_causes','Reason for absence_21':'Contact_with_services',\n",
    "                      'Reason for absence_22':'Follow_Up','Reason for absence_23':'Consultation',\n",
    "                      'Reason for absence_24':'Blood_donation','Reason for absence_25':'Lab_exam',\n",
    "                      'Reason for absence_26':'Unjustified','Reason for absence_27':'Physiotherapy',\n",
    "                      'Reason for absence_28':'Dental','Month of absence_0':'No_absence', 'Month of absence_1':'January',\n",
    "                      'Month of absence_10':'October', 'Month of absence_11':'November','Month of absence_12':'December',\n",
    "                      'Month of absence_2':'February','Month of absence_3':'March', 'Month of absence_4':'April',\n",
    "                      'Month of absence_5':'May', 'Month of absence_6':'June','Month of absence_7':'July',\n",
    "                      'Month of absence_8':'August','Month of absence_9':'September', 'Day of the week_2':'Monday',\n",
    "                      'Day of the week_3':'Tuesday', 'Day of the week_4':'Wednesday','Day of the week_5':'Thursday',\n",
    "                      'Day of the week_6':'Friday','Seasons_1':'Winter', 'Seasons_2':'Summer', 'Seasons_3':'Fall',\n",
    "                      'Seasons_4':'Spring','Disciplinary failure_0':'No_Disciplinary_failure',\n",
    "                      'Disciplinary failure_1':'Disciplinary_failure', 'Education_1':'High_school','Education_2':'Graduate',\n",
    "                      'Education_3':'Postgraduate','Education_4':'Master_and_Doctor', 'Son_0':'No_children', 'Son_1':'1_child',\n",
    "                      'Son_2':'2_children', 'Son_3':'3_children', 'Son_4':'4_children','Pet_0':'No_pets', 'Pet_1':'1_pet',\n",
    "                      'Pet_2':'2_pets', 'Pet_4':'4_pets','Pet_5':'5_pets', 'Pet_8':'8_pets', 'Social drinker_0':'Nondrinker',\n",
    "                      'Social drinker_1':'Drinker', 'Social smoker_0':'Nonsmoker','Social smoker_1':'Smoker',\n",
    "                      'Reason for absence':'Reason_for_absence','Month of absence':'Month_of_absence',\n",
    "                      'Day of the week':'Day_of_the_week','Transportation expense':'Transportation_expense_(R$)',\n",
    "                      'Distance from Residence to Work':'Distance_from_Residence_to_Work_(km)','Service time':'Service_time_(years)',\n",
    "                      'Age':'Age_(years)', 'Work load Average/day ':'Workload_avg/day','Hit target':'Hit_target', 'Son':'Children',\n",
    "                      'Pet':'Pets', 'Weight':'Weight_(kg)', 'Height':'Height_(cm)', 'Body mass index':'Body_mass_index',\n",
    "                      'Absenteeism time in hours':'Hours_Absent'}, axis='columns')"
   ]
  },
  {
   "cell_type": "code",
   "execution_count": 7,
   "metadata": {},
   "outputs": [],
   "source": [
    "absenteeism_cleaned.Day_of_the_week = absenteeism_cleaned.Day_of_the_week.replace({2:0})"
   ]
  },
  {
   "cell_type": "code",
   "execution_count": 8,
   "metadata": {},
   "outputs": [],
   "source": [
    "absenteeism_cleaned.Day_of_the_week = absenteeism_cleaned.Day_of_the_week.replace({3:1})"
   ]
  },
  {
   "cell_type": "code",
   "execution_count": 9,
   "metadata": {},
   "outputs": [],
   "source": [
    "absenteeism_cleaned.Day_of_the_week = absenteeism_cleaned.Day_of_the_week.replace({4:2})"
   ]
  },
  {
   "cell_type": "code",
   "execution_count": 10,
   "metadata": {},
   "outputs": [],
   "source": [
    "absenteeism_cleaned.Day_of_the_week = absenteeism_cleaned.Day_of_the_week.replace({5:3})"
   ]
  },
  {
   "cell_type": "code",
   "execution_count": 11,
   "metadata": {},
   "outputs": [],
   "source": [
    "absenteeism_cleaned.Day_of_the_week = absenteeism_cleaned.Day_of_the_week.replace({6:4})"
   ]
  },
  {
   "cell_type": "code",
   "execution_count": 12,
   "metadata": {},
   "outputs": [],
   "source": [
    "absenteeism_cleaned.Seasons = absenteeism_cleaned.Seasons.replace({1:0})"
   ]
  },
  {
   "cell_type": "code",
   "execution_count": 13,
   "metadata": {},
   "outputs": [],
   "source": [
    "absenteeism_cleaned.Seasons = absenteeism_cleaned.Seasons.replace({2:1})"
   ]
  },
  {
   "cell_type": "code",
   "execution_count": 14,
   "metadata": {},
   "outputs": [],
   "source": [
    "absenteeism_cleaned.Seasons = absenteeism_cleaned.Seasons.replace({3:2})"
   ]
  },
  {
   "cell_type": "code",
   "execution_count": 15,
   "metadata": {},
   "outputs": [],
   "source": [
    "absenteeism_cleaned.Seasons = absenteeism_cleaned.Seasons.replace({4:3})"
   ]
  },
  {
   "cell_type": "code",
   "execution_count": 16,
   "metadata": {},
   "outputs": [],
   "source": [
    "absenteeism_cleaned.Education = absenteeism_cleaned.Education.replace({1:0})"
   ]
  },
  {
   "cell_type": "code",
   "execution_count": 17,
   "metadata": {},
   "outputs": [],
   "source": [
    "absenteeism_cleaned.Education = absenteeism_cleaned.Education.replace({2:1})"
   ]
  },
  {
   "cell_type": "code",
   "execution_count": 18,
   "metadata": {},
   "outputs": [],
   "source": [
    "absenteeism_cleaned.Education = absenteeism_cleaned.Education.replace({3:2})"
   ]
  },
  {
   "cell_type": "code",
   "execution_count": 19,
   "metadata": {},
   "outputs": [],
   "source": [
    "absenteeism_cleaned.Education = absenteeism_cleaned.Education.replace({4:3})"
   ]
  },
  {
   "cell_type": "code",
   "execution_count": 20,
   "metadata": {},
   "outputs": [],
   "source": [
    "absenteeism_cleaned.to_csv(\"absenteeism_cleaned.csv\", sep=';',index=False)"
   ]
  },
  {
   "cell_type": "markdown",
   "metadata": {},
   "source": [
    "<h1>4. INFERENTIAL STATISTICS</h1>\n",
    "First I calculated the percentage of total hours missed for each reason."
   ]
  },
  {
   "cell_type": "code",
   "execution_count": 21,
   "metadata": {},
   "outputs": [],
   "source": [
    "import scipy.stats as sp\n",
    "import matplotlib.mlab as mlab\n",
    "\n",
    "from scipy.stats import chi2_contingency\n",
    "from scipy.stats import fisher_exact\n",
    "from scipy import stats\n",
    "from sklearn import preprocessing\n",
    "from sklearn.preprocessing import StandardScaler\n",
    "\n",
    "%matplotlib inline\n",
    "\n",
    "#Import cleaned data\n",
    "abs_data = pd.read_csv('absenteeism_cleaned.csv', delimiter = ';');\n",
    "\n",
    "#Calculate total hours absent\n",
    "lost_hours = abs_data['Hours_Absent'].values.sum()"
   ]
  },
  {
   "cell_type": "markdown",
   "metadata": {},
   "source": [
    "<h2>4.1. Reasons</h2>\n",
    "Musculoskeletal issues and injuries had the highest percentages at about 16% and 14% respectively. Since courier work involves transporting goods, these jobs often involve a lot of heavy lifting, so there is a greater likelihood of employees taking time off work for injuries or musculoskeletal issues."
   ]
  },
  {
   "cell_type": "code",
   "execution_count": 22,
   "metadata": {},
   "outputs": [
    {
     "data": {
      "text/html": [
       "<div>\n",
       "<style scoped>\n",
       "    .dataframe tbody tr th:only-of-type {\n",
       "        vertical-align: middle;\n",
       "    }\n",
       "\n",
       "    .dataframe tbody tr th {\n",
       "        vertical-align: top;\n",
       "    }\n",
       "\n",
       "    .dataframe thead th {\n",
       "        text-align: right;\n",
       "    }\n",
       "</style>\n",
       "<table border=\"1\" class=\"dataframe\">\n",
       "  <thead>\n",
       "    <tr style=\"text-align: right;\">\n",
       "      <th></th>\n",
       "      <th>Total Lost %</th>\n",
       "    </tr>\n",
       "  </thead>\n",
       "  <tbody>\n",
       "    <tr>\n",
       "      <th>Unknown</th>\n",
       "      <td>0.000</td>\n",
       "    </tr>\n",
       "    <tr>\n",
       "      <th>Infectious</th>\n",
       "      <td>0.312</td>\n",
       "    </tr>\n",
       "    <tr>\n",
       "      <th>Neoplasms</th>\n",
       "      <td>0.039</td>\n",
       "    </tr>\n",
       "    <tr>\n",
       "      <th>Blood_or_Immune</th>\n",
       "      <td>0.059</td>\n",
       "    </tr>\n",
       "    <tr>\n",
       "      <th>Endocrine</th>\n",
       "      <td>0.156</td>\n",
       "    </tr>\n",
       "    <tr>\n",
       "      <th>Mental</th>\n",
       "      <td>0.293</td>\n",
       "    </tr>\n",
       "    <tr>\n",
       "      <th>Nervous_system</th>\n",
       "      <td>0.937</td>\n",
       "    </tr>\n",
       "    <tr>\n",
       "      <th>Eye</th>\n",
       "      <td>2.049</td>\n",
       "    </tr>\n",
       "    <tr>\n",
       "      <th>Ear</th>\n",
       "      <td>0.937</td>\n",
       "    </tr>\n",
       "    <tr>\n",
       "      <th>Circulatory</th>\n",
       "      <td>0.703</td>\n",
       "    </tr>\n",
       "    <tr>\n",
       "      <th>Respiratory</th>\n",
       "      <td>4.879</td>\n",
       "    </tr>\n",
       "    <tr>\n",
       "      <th>Digestive</th>\n",
       "      <td>5.582</td>\n",
       "    </tr>\n",
       "    <tr>\n",
       "      <th>Skin</th>\n",
       "      <td>1.874</td>\n",
       "    </tr>\n",
       "    <tr>\n",
       "      <th>Musculoskeletal</th>\n",
       "      <td>13.954</td>\n",
       "    </tr>\n",
       "    <tr>\n",
       "      <th>Genitourinary</th>\n",
       "      <td>5.191</td>\n",
       "    </tr>\n",
       "    <tr>\n",
       "      <th>Pregnancy</th>\n",
       "      <td>0.585</td>\n",
       "    </tr>\n",
       "    <tr>\n",
       "      <th>Perinatal</th>\n",
       "      <td>0.937</td>\n",
       "    </tr>\n",
       "    <tr>\n",
       "      <th>Congenital</th>\n",
       "      <td>0.332</td>\n",
       "    </tr>\n",
       "    <tr>\n",
       "      <th>Other</th>\n",
       "      <td>7.377</td>\n",
       "    </tr>\n",
       "    <tr>\n",
       "      <th>Injury</th>\n",
       "      <td>14.832</td>\n",
       "    </tr>\n",
       "    <tr>\n",
       "      <th>Contact_with_services</th>\n",
       "      <td>2.459</td>\n",
       "    </tr>\n",
       "    <tr>\n",
       "      <th>Follow_Up</th>\n",
       "      <td>16.315</td>\n",
       "    </tr>\n",
       "    <tr>\n",
       "      <th>Consultation</th>\n",
       "      <td>66.881</td>\n",
       "    </tr>\n",
       "    <tr>\n",
       "      <th>Blood_donation</th>\n",
       "      <td>1.405</td>\n",
       "    </tr>\n",
       "    <tr>\n",
       "      <th>Lab_exam</th>\n",
       "      <td>15.125</td>\n",
       "    </tr>\n",
       "    <tr>\n",
       "      <th>Unjustified</th>\n",
       "      <td>16.745</td>\n",
       "    </tr>\n",
       "    <tr>\n",
       "      <th>Physiotherapy</th>\n",
       "      <td>36.358</td>\n",
       "    </tr>\n",
       "    <tr>\n",
       "      <th>Dental</th>\n",
       "      <td>61.202</td>\n",
       "    </tr>\n",
       "  </tbody>\n",
       "</table>\n",
       "</div>"
      ],
      "text/plain": [
       "                       Total Lost %\n",
       "Unknown                       0.000\n",
       "Infectious                    0.312\n",
       "Neoplasms                     0.039\n",
       "Blood_or_Immune               0.059\n",
       "Endocrine                     0.156\n",
       "Mental                        0.293\n",
       "Nervous_system                0.937\n",
       "Eye                           2.049\n",
       "Ear                           0.937\n",
       "Circulatory                   0.703\n",
       "Respiratory                   4.879\n",
       "Digestive                     5.582\n",
       "Skin                          1.874\n",
       "Musculoskeletal              13.954\n",
       "Genitourinary                 5.191\n",
       "Pregnancy                     0.585\n",
       "Perinatal                     0.937\n",
       "Congenital                    0.332\n",
       "Other                         7.377\n",
       "Injury                       14.832\n",
       "Contact_with_services         2.459\n",
       "Follow_Up                    16.315\n",
       "Consultation                 66.881\n",
       "Blood_donation                1.405\n",
       "Lab_exam                     15.125\n",
       "Unjustified                  16.745\n",
       "Physiotherapy                36.358\n",
       "Dental                       61.202"
      ]
     },
     "execution_count": 22,
     "metadata": {},
     "output_type": "execute_result"
    }
   ],
   "source": [
    "#Reason 20, 'External_causes', has no entries and is excluded\n",
    "\n",
    "reasons = ['Unknown','Infectious','Neoplasms','Blood_or_Immune','Endocrine','Mental',\n",
    "           'Nervous_system', 'Eye','Ear','Circulatory','Respiratory','Digestive','Skin',\n",
    "           'Musculoskeletal','Genitourinary','Pregnancy','Perinatal','Congenital','Other',\n",
    "           'Injury','Contact_with_services','Follow_Up','Consultation',\n",
    "           'Blood_donation','Lab_exam','Unjustified','Physiotherapy','Dental']\n",
    "\n",
    "by_reason = []\n",
    "\n",
    "for R in reasons:\n",
    "    lost_hours_reason = abs_data[abs_data[R] != 0]['Reason_for_absence'].values.sum()\n",
    "    x = np.round( 100*lost_hours_reason/lost_hours  , 3)\n",
    "    \n",
    "    by_reason.append(x)\n",
    "\n",
    "pd.DataFrame(by_reason, columns=['Total Lost %'], index = reasons)"
   ]
  },
  {
   "cell_type": "code",
   "execution_count": 23,
   "metadata": {},
   "outputs": [
    {
     "data": {
      "text/plain": [
       "<matplotlib.axes._subplots.AxesSubplot at 0x1eb45398b38>"
      ]
     },
     "execution_count": 23,
     "metadata": {},
     "output_type": "execute_result"
    },
    {
     "data": {
      "image/png": "[encoded data removed]",
      "text/plain": [
       "<Figure size 432x288 with 1 Axes>"
      ]
     },
     "metadata": {},
     "output_type": "display_data"
    }
   ],
   "source": [
    "reasons = ['Unknown','Infectious','Neoplasms','Blood_or_Immune','Endocrine','Mental',\n",
    "           'Nervous_system', 'Eye','Ear','Circulatory','Respiratory','Digestive','Skin',\n",
    "           'Musculoskeletal','Genitourinary','Pregnancy','Perinatal','Congenital','Other',\n",
    "           'Injury','External','Contact_with_services','Follow_Up','Consultation',\n",
    "           'Blood_donation','Lab_exam','Unjustified','Physiotherapy','Dental']\n",
    "\n",
    "abs_data['Reason'] = abs_data.Reason_for_absence.replace(np.arange(len(reasons)), reasons)\n",
    "\n",
    "pct_by_reason = 100 * abs_data.groupby('Reason').sum()['Hours_Absent'] / lost_hours\n",
    "pct_by_reason.sort_values(ascending=False).plot.bar()"
   ]
  },
  {
   "cell_type": "markdown",
   "metadata": {},
   "source": [
    "<h2>4.2. Months</h2>\n",
    "Among the percentages missed for each month, March and July have higher percentages than the others. July is near the beginning of winter, so I would expect employees to miss work due to illnesses such as colds and the flu. March is late summer/early fall and comes just after the beginning of the school year, so parents would take time off for kids' school activities."
   ]
  },
  {
   "cell_type": "code",
   "execution_count": 24,
   "metadata": {},
   "outputs": [
    {
     "data": {
      "text/html": [
       "<div>\n",
       "<style scoped>\n",
       "    .dataframe tbody tr th:only-of-type {\n",
       "        vertical-align: middle;\n",
       "    }\n",
       "\n",
       "    .dataframe tbody tr th {\n",
       "        vertical-align: top;\n",
       "    }\n",
       "\n",
       "    .dataframe thead th {\n",
       "        text-align: right;\n",
       "    }\n",
       "</style>\n",
       "<table border=\"1\" class=\"dataframe\">\n",
       "  <thead>\n",
       "    <tr style=\"text-align: right;\">\n",
       "      <th></th>\n",
       "      <th>Total Lost %</th>\n",
       "    </tr>\n",
       "  </thead>\n",
       "  <tbody>\n",
       "    <tr>\n",
       "      <th>No_absence</th>\n",
       "      <td>0.000</td>\n",
       "    </tr>\n",
       "    <tr>\n",
       "      <th>January</th>\n",
       "      <td>4.333</td>\n",
       "    </tr>\n",
       "    <tr>\n",
       "      <th>February</th>\n",
       "      <td>5.738</td>\n",
       "    </tr>\n",
       "    <tr>\n",
       "      <th>March</th>\n",
       "      <td>14.930</td>\n",
       "    </tr>\n",
       "    <tr>\n",
       "      <th>April</th>\n",
       "      <td>9.407</td>\n",
       "    </tr>\n",
       "    <tr>\n",
       "      <th>May</th>\n",
       "      <td>7.806</td>\n",
       "    </tr>\n",
       "    <tr>\n",
       "      <th>June</th>\n",
       "      <td>8.021</td>\n",
       "    </tr>\n",
       "    <tr>\n",
       "      <th>July</th>\n",
       "      <td>14.325</td>\n",
       "    </tr>\n",
       "    <tr>\n",
       "      <th>August</th>\n",
       "      <td>5.621</td>\n",
       "    </tr>\n",
       "    <tr>\n",
       "      <th>September</th>\n",
       "      <td>5.699</td>\n",
       "    </tr>\n",
       "    <tr>\n",
       "      <th>October</th>\n",
       "      <td>6.811</td>\n",
       "    </tr>\n",
       "    <tr>\n",
       "      <th>November</th>\n",
       "      <td>9.231</td>\n",
       "    </tr>\n",
       "    <tr>\n",
       "      <th>December</th>\n",
       "      <td>8.080</td>\n",
       "    </tr>\n",
       "  </tbody>\n",
       "</table>\n",
       "</div>"
      ],
      "text/plain": [
       "            Total Lost %\n",
       "No_absence         0.000\n",
       "January            4.333\n",
       "February           5.738\n",
       "March             14.930\n",
       "April              9.407\n",
       "May                7.806\n",
       "June               8.021\n",
       "July              14.325\n",
       "August             5.621\n",
       "September          5.699\n",
       "October            6.811\n",
       "November           9.231\n",
       "December           8.080"
      ]
     },
     "execution_count": 24,
     "metadata": {},
     "output_type": "execute_result"
    }
   ],
   "source": [
    "months = ['No_absence', 'January','February','March','April','May','June','July','August',\n",
    "          'September', 'October', 'November', 'December']\n",
    "by_month = []\n",
    "## Use a loop (not very efficient)\n",
    "for M in months:\n",
    "    lost_hours_month = abs_data[abs_data[M] != 0]['Hours_Absent'].values.sum()\n",
    "    x = np.round( 100*lost_hours_month/lost_hours  , 3)\n",
    "    \n",
    "    by_month.append(x)\n",
    "\n",
    "pd.DataFrame(by_month, columns=['Total Lost %'], index = months)"
   ]
  },
  {
   "cell_type": "code",
   "execution_count": 25,
   "metadata": {},
   "outputs": [
    {
     "data": {
      "text/plain": [
       "<matplotlib.axes._subplots.AxesSubplot at 0x1eb4554acf8>"
      ]
     },
     "execution_count": 25,
     "metadata": {},
     "output_type": "execute_result"
    },
    {
     "data": {
      "image/png": "[encoded data removed]",
      "text/plain": [
       "<Figure size 432x288 with 1 Axes>"
      ]
     },
     "metadata": {},
     "output_type": "display_data"
    }
   ],
   "source": [
    "abs_data['Months'] = abs_data.Month_of_absence.replace(np.arange(len(months)), months)\n",
    "\n",
    "pct_by_month = 100 * abs_data.groupby('Months').sum()['Hours_Absent'] / lost_hours\n",
    "pct_by_month\n",
    "\n",
    "pct_by_month.sort_values(ascending=False).plot.bar()"
   ]
  },
  {
   "cell_type": "markdown",
   "metadata": {},
   "source": [
    "<h2>4.3. Days of the Week</h2>\n",
    "Looking at the days of the week, Monday has a higher percentage of hours missed, likely from workers recovering from the weekend."
   ]
  },
  {
   "cell_type": "code",
   "execution_count": 26,
   "metadata": {},
   "outputs": [
    {
     "data": {
      "text/html": [
       "<div>\n",
       "<style scoped>\n",
       "    .dataframe tbody tr th:only-of-type {\n",
       "        vertical-align: middle;\n",
       "    }\n",
       "\n",
       "    .dataframe tbody tr th {\n",
       "        vertical-align: top;\n",
       "    }\n",
       "\n",
       "    .dataframe thead th {\n",
       "        text-align: right;\n",
       "    }\n",
       "</style>\n",
       "<table border=\"1\" class=\"dataframe\">\n",
       "  <thead>\n",
       "    <tr style=\"text-align: right;\">\n",
       "      <th></th>\n",
       "      <th>Total Lost %</th>\n",
       "    </tr>\n",
       "  </thead>\n",
       "  <tbody>\n",
       "    <tr>\n",
       "      <th>Monday</th>\n",
       "      <td>29.059</td>\n",
       "    </tr>\n",
       "    <tr>\n",
       "      <th>Tuesday</th>\n",
       "      <td>23.985</td>\n",
       "    </tr>\n",
       "    <tr>\n",
       "      <th>Wednesday</th>\n",
       "      <td>21.760</td>\n",
       "    </tr>\n",
       "    <tr>\n",
       "      <th>Thursday</th>\n",
       "      <td>10.792</td>\n",
       "    </tr>\n",
       "    <tr>\n",
       "      <th>Friday</th>\n",
       "      <td>14.403</td>\n",
       "    </tr>\n",
       "  </tbody>\n",
       "</table>\n",
       "</div>"
      ],
      "text/plain": [
       "           Total Lost %\n",
       "Monday           29.059\n",
       "Tuesday          23.985\n",
       "Wednesday        21.760\n",
       "Thursday         10.792\n",
       "Friday           14.403"
      ]
     },
     "execution_count": 26,
     "metadata": {},
     "output_type": "execute_result"
    }
   ],
   "source": [
    "days = ['Monday','Tuesday','Wednesday','Thursday','Friday']\n",
    "by_day = []\n",
    "## Use a loop (not very efficient)\n",
    "for D in days:\n",
    "    lost_hours_day = abs_data[abs_data[D] != 0]['Hours_Absent'].values.sum()\n",
    "    x = np.round( 100*lost_hours_day/lost_hours  , 3)\n",
    "    \n",
    "    by_day.append(x)\n",
    "\n",
    "pd.DataFrame(by_day, columns=['Total Lost %'], index = days)"
   ]
  },
  {
   "cell_type": "code",
   "execution_count": 27,
   "metadata": {},
   "outputs": [
    {
     "data": {
      "text/plain": [
       "<matplotlib.axes._subplots.AxesSubplot at 0x1eb457e8c88>"
      ]
     },
     "execution_count": 27,
     "metadata": {},
     "output_type": "execute_result"
    },
    {
     "data": {
      "image/png": "[encoded data removed]",
      "text/plain": [
       "<Figure size 432x288 with 1 Axes>"
      ]
     },
     "metadata": {},
     "output_type": "display_data"
    }
   ],
   "source": [
    "abs_data['Days'] = abs_data.Day_of_the_week.replace(np.arange(len(days)), days)\n",
    "abs_data['Days']\n",
    "pct_by_day = 100 * abs_data.groupby('Days').sum()['Hours_Absent'] / lost_hours\n",
    "pct_by_day.sort_values(ascending=False).plot.bar()"
   ]
  },
  {
   "cell_type": "markdown",
   "metadata": {},
   "source": [
    "<h2>4.4 Seasons</h2>\n",
    "For the seasons, at a glance they have similar percentages, though fall stands out a little more, probably due to illnesses such as colds and the flu."
   ]
  },
  {
   "cell_type": "code",
   "execution_count": 28,
   "metadata": {},
   "outputs": [
    {
     "data": {
      "text/html": [
       "<div>\n",
       "<style scoped>\n",
       "    .dataframe tbody tr th:only-of-type {\n",
       "        vertical-align: middle;\n",
       "    }\n",
       "\n",
       "    .dataframe tbody tr th {\n",
       "        vertical-align: top;\n",
       "    }\n",
       "\n",
       "    .dataframe thead th {\n",
       "        text-align: right;\n",
       "    }\n",
       "</style>\n",
       "<table border=\"1\" class=\"dataframe\">\n",
       "  <thead>\n",
       "    <tr style=\"text-align: right;\">\n",
       "      <th></th>\n",
       "      <th>Total Lost %</th>\n",
       "    </tr>\n",
       "  </thead>\n",
       "  <tbody>\n",
       "    <tr>\n",
       "      <th>Spring</th>\n",
       "      <td>24.180</td>\n",
       "    </tr>\n",
       "    <tr>\n",
       "      <th>Summer</th>\n",
       "      <td>22.482</td>\n",
       "    </tr>\n",
       "    <tr>\n",
       "      <th>Fall</th>\n",
       "      <td>29.118</td>\n",
       "    </tr>\n",
       "    <tr>\n",
       "      <th>Winter</th>\n",
       "      <td>24.219</td>\n",
       "    </tr>\n",
       "  </tbody>\n",
       "</table>\n",
       "</div>"
      ],
      "text/plain": [
       "        Total Lost %\n",
       "Spring        24.180\n",
       "Summer        22.482\n",
       "Fall          29.118\n",
       "Winter        24.219"
      ]
     },
     "execution_count": 28,
     "metadata": {},
     "output_type": "execute_result"
    }
   ],
   "source": [
    "seasons = ['Spring','Summer','Fall','Winter']\n",
    "by_season = []\n",
    "## Use a loop (not very efficient)\n",
    "for S in seasons:\n",
    "    lost_hours_season = abs_data[abs_data[S] != 0]['Hours_Absent'].values.sum()\n",
    "    x = np.round( 100*lost_hours_season/lost_hours  , 3)\n",
    "    \n",
    "    by_season.append(x)\n",
    "\n",
    "pd.DataFrame(by_season, columns=['Total Lost %'], index = seasons)"
   ]
  },
  {
   "cell_type": "code",
   "execution_count": 29,
   "metadata": {},
   "outputs": [
    {
     "data": {
      "text/plain": [
       "<matplotlib.axes._subplots.AxesSubplot at 0x1eb4584a9e8>"
      ]
     },
     "execution_count": 29,
     "metadata": {},
     "output_type": "execute_result"
    },
    {
     "data": {
      "image/png": "[encoded data removed]",
      "text/plain": [
       "<Figure size 432x288 with 1 Axes>"
      ]
     },
     "metadata": {},
     "output_type": "display_data"
    }
   ],
   "source": [
    "abs_data['Seasons'] = abs_data.Seasons.replace(np.arange(len(seasons)), seasons)\n",
    "\n",
    "pct_by_season = 100 * abs_data.groupby('Seasons').sum()['Hours_Absent'] / lost_hours\n",
    "pct_by_season.sort_values(ascending=False).plot.bar()"
   ]
  },
  {
   "cell_type": "markdown",
   "metadata": {},
   "source": [
    "<h2>4.5. Education</h2>\n",
    "In the different education levels, the overwhelming percentage of hours missed came from employees with just a high school education. Courier work doesn't seem to be very high-skilled or require schooling beyond high school. Workers with a high school diploma are likelier to do the physical work and take time off for injuries and musculoskeletal issues. Workers with college degrees are likelier to do white-collar managerial work and seem far less likely to need time off due to illness or injury."
   ]
  },
  {
   "cell_type": "code",
   "execution_count": 30,
   "metadata": {},
   "outputs": [
    {
     "data": {
      "text/html": [
       "<div>\n",
       "<style scoped>\n",
       "    .dataframe tbody tr th:only-of-type {\n",
       "        vertical-align: middle;\n",
       "    }\n",
       "\n",
       "    .dataframe tbody tr th {\n",
       "        vertical-align: top;\n",
       "    }\n",
       "\n",
       "    .dataframe thead th {\n",
       "        text-align: right;\n",
       "    }\n",
       "</style>\n",
       "<table border=\"1\" class=\"dataframe\">\n",
       "  <thead>\n",
       "    <tr style=\"text-align: right;\">\n",
       "      <th></th>\n",
       "      <th>Total Lost %</th>\n",
       "    </tr>\n",
       "  </thead>\n",
       "  <tbody>\n",
       "    <tr>\n",
       "      <th>High_school</th>\n",
       "      <td>85.734</td>\n",
       "    </tr>\n",
       "    <tr>\n",
       "      <th>Graduate</th>\n",
       "      <td>5.738</td>\n",
       "    </tr>\n",
       "    <tr>\n",
       "      <th>Postgraduate</th>\n",
       "      <td>8.119</td>\n",
       "    </tr>\n",
       "    <tr>\n",
       "      <th>Master_and_Doctor</th>\n",
       "      <td>0.410</td>\n",
       "    </tr>\n",
       "  </tbody>\n",
       "</table>\n",
       "</div>"
      ],
      "text/plain": [
       "                   Total Lost %\n",
       "High_school              85.734\n",
       "Graduate                  5.738\n",
       "Postgraduate              8.119\n",
       "Master_and_Doctor         0.410"
      ]
     },
     "execution_count": 30,
     "metadata": {},
     "output_type": "execute_result"
    }
   ],
   "source": [
    "education = ['High_school', 'Graduate', 'Postgraduate', 'Master_and_Doctor']\n",
    "by_education = []\n",
    "## Use a loop (not very efficient)\n",
    "for E in education:\n",
    "    lost_hours_education = abs_data[abs_data[E] != 0]['Hours_Absent'].values.sum()\n",
    "    x = np.round( 100*lost_hours_education/lost_hours  , 3)\n",
    "    \n",
    "    by_education.append(x)\n",
    "\n",
    "pd.DataFrame(by_education, columns=['Total Lost %'], index = education)"
   ]
  },
  {
   "cell_type": "code",
   "execution_count": 31,
   "metadata": {},
   "outputs": [
    {
     "data": {
      "text/plain": [
       "<matplotlib.axes._subplots.AxesSubplot at 0x1eb458ad7f0>"
      ]
     },
     "execution_count": 31,
     "metadata": {},
     "output_type": "execute_result"
    },
    {
     "data": {
      "image/png": "[encoded data removed]",
      "text/plain": [
       "<Figure size 432x288 with 1 Axes>"
      ]
     },
     "metadata": {},
     "output_type": "display_data"
    }
   ],
   "source": [
    "abs_data['Education'] = abs_data.Education.replace(np.arange(len(education)), education)\n",
    "\n",
    "pct_by_education = 100 * abs_data.groupby('Education').sum()['Hours_Absent'] / lost_hours\n",
    "pct_by_education.sort_values(ascending=False).plot.bar()"
   ]
  },
  {
   "cell_type": "markdown",
   "metadata": {},
   "source": [
    "<h2>4.6. Binary Categories</h2>\n",
    "Next, I looked at the binary categories. None of the employees with disciplinary failures missed work. Social smokers took a fairly small amount of time off, while social drinkers took almost twice as much time off as non-drinkers."
   ]
  },
  {
   "cell_type": "code",
   "execution_count": 32,
   "metadata": {},
   "outputs": [
    {
     "name": "stdout",
     "output_type": "stream",
     "text": [
      "Disciplinary failure: 0.00%\n",
      "No disciplinary failure: 100.00%\n",
      "Smoker: 6.85%\n",
      "Nonsmoker: 93.15%\n",
      "Drinker: 62.96%\n",
      "Nondrinker: 37.04%\n"
     ]
    }
   ],
   "source": [
    "lost_hours_dis = abs_data[abs_data.Disciplinary_failure != 0]\n",
    "lost_hours_dis_pct = lost_hours_dis['Hours_Absent'].values.sum()/lost_hours\n",
    "\n",
    "lost_hours_nodis = abs_data[abs_data.No_Disciplinary_failure != 0]\n",
    "lost_hours_nodis_pct = lost_hours_nodis['Hours_Absent'].values.sum()/lost_hours\n",
    "\n",
    "print ('Disciplinary failure:','{percent:.2%}'.format(percent=lost_hours_dis_pct))\n",
    "print ('No disciplinary failure:','{percent:.2%}'.format(percent=lost_hours_nodis_pct))\n",
    "\n",
    "lost_hours_smoker = abs_data[abs_data.Smoker != 0]\n",
    "lost_hours_smoker_pct = lost_hours_smoker['Hours_Absent'].values.sum()/lost_hours\n",
    "\n",
    "lost_hours_nonsmoker = abs_data[abs_data.Nonsmoker != 0]\n",
    "lost_hours_nonsmoker_pct = lost_hours_nonsmoker['Hours_Absent'].values.sum()/lost_hours\n",
    "\n",
    "print ('Smoker:','{percent:.2%}'.format(percent=lost_hours_smoker_pct))\n",
    "print ('Nonsmoker:','{percent:.2%}'.format(percent=lost_hours_nonsmoker_pct))\n",
    "\n",
    "lost_hours_drinker = abs_data[abs_data.Drinker != 0]\n",
    "lost_hours_drinker_pct = lost_hours_drinker['Hours_Absent'].values.sum()/lost_hours\n",
    "\n",
    "lost_hours_nondrinker = abs_data[abs_data.Nondrinker != 0]\n",
    "lost_hours_nondrinker_pct = lost_hours_nondrinker['Hours_Absent'].values.sum()/lost_hours\n",
    "\n",
    "print ('Drinker:','{percent:.2%}'.format(percent=lost_hours_drinker_pct))\n",
    "print ('Nondrinker:','{percent:.2%}'.format(percent=lost_hours_nondrinker_pct))"
   ]
  },
  {
   "cell_type": "markdown",
   "metadata": {},
   "source": [
    "<h2>4.7. Correlation Values</h2>\n",
    "After examining this data, I calculated the correlation values between hours missed and transportation expense, commuting distance, service time, age, height, weight, and body mass index (BMI). Transportation expense, service time, age, and weight had very weak correlations. Height had a slightly stronger correlation. Commuting distance and BMI had very weak negative correlations."
   ]
  },
  {
   "cell_type": "code",
   "execution_count": 33,
   "metadata": {},
   "outputs": [
    {
     "data": {
      "text/html": [
       "<div>\n",
       "<style scoped>\n",
       "    .dataframe tbody tr th:only-of-type {\n",
       "        vertical-align: middle;\n",
       "    }\n",
       "\n",
       "    .dataframe tbody tr th {\n",
       "        vertical-align: top;\n",
       "    }\n",
       "\n",
       "    .dataframe thead th {\n",
       "        text-align: right;\n",
       "    }\n",
       "</style>\n",
       "<table border=\"1\" class=\"dataframe\">\n",
       "  <thead>\n",
       "    <tr style=\"text-align: right;\">\n",
       "      <th></th>\n",
       "      <th>Hours_Absent</th>\n",
       "      <th>Transportation_expense_(R$)</th>\n",
       "      <th>Distance_from_Residence_to_Work_(km)</th>\n",
       "      <th>Service_time_(years)</th>\n",
       "      <th>Age_(years)</th>\n",
       "      <th>Body_mass_index</th>\n",
       "    </tr>\n",
       "  </thead>\n",
       "  <tbody>\n",
       "    <tr>\n",
       "      <th>Hours_Absent</th>\n",
       "      <td>1.000000</td>\n",
       "      <td>0.027585</td>\n",
       "      <td>-0.088363</td>\n",
       "      <td>0.019029</td>\n",
       "      <td>0.065760</td>\n",
       "      <td>-0.049719</td>\n",
       "    </tr>\n",
       "    <tr>\n",
       "      <th>Transportation_expense_(R$)</th>\n",
       "      <td>0.027585</td>\n",
       "      <td>1.000000</td>\n",
       "      <td>0.262183</td>\n",
       "      <td>-0.349887</td>\n",
       "      <td>-0.227542</td>\n",
       "      <td>-0.136517</td>\n",
       "    </tr>\n",
       "    <tr>\n",
       "      <th>Distance_from_Residence_to_Work_(km)</th>\n",
       "      <td>-0.088363</td>\n",
       "      <td>0.262183</td>\n",
       "      <td>1.000000</td>\n",
       "      <td>0.131730</td>\n",
       "      <td>-0.145886</td>\n",
       "      <td>0.113772</td>\n",
       "    </tr>\n",
       "    <tr>\n",
       "      <th>Service_time_(years)</th>\n",
       "      <td>0.019029</td>\n",
       "      <td>-0.349887</td>\n",
       "      <td>0.131730</td>\n",
       "      <td>1.000000</td>\n",
       "      <td>0.670979</td>\n",
       "      <td>0.499718</td>\n",
       "    </tr>\n",
       "    <tr>\n",
       "      <th>Age_(years)</th>\n",
       "      <td>0.065760</td>\n",
       "      <td>-0.227542</td>\n",
       "      <td>-0.145886</td>\n",
       "      <td>0.670979</td>\n",
       "      <td>1.000000</td>\n",
       "      <td>0.470688</td>\n",
       "    </tr>\n",
       "    <tr>\n",
       "      <th>Body_mass_index</th>\n",
       "      <td>-0.049719</td>\n",
       "      <td>-0.136517</td>\n",
       "      <td>0.113772</td>\n",
       "      <td>0.499718</td>\n",
       "      <td>0.470688</td>\n",
       "      <td>1.000000</td>\n",
       "    </tr>\n",
       "  </tbody>\n",
       "</table>\n",
       "</div>"
      ],
      "text/plain": [
       "                                      Hours_Absent  \\\n",
       "Hours_Absent                              1.000000   \n",
       "Transportation_expense_(R$)               0.027585   \n",
       "Distance_from_Residence_to_Work_(km)     -0.088363   \n",
       "Service_time_(years)                      0.019029   \n",
       "Age_(years)                               0.065760   \n",
       "Body_mass_index                          -0.049719   \n",
       "\n",
       "                                      Transportation_expense_(R$)  \\\n",
       "Hours_Absent                                             0.027585   \n",
       "Transportation_expense_(R$)                              1.000000   \n",
       "Distance_from_Residence_to_Work_(km)                     0.262183   \n",
       "Service_time_(years)                                    -0.349887   \n",
       "Age_(years)                                             -0.227542   \n",
       "Body_mass_index                                         -0.136517   \n",
       "\n",
       "                                      Distance_from_Residence_to_Work_(km)  \\\n",
       "Hours_Absent                                                     -0.088363   \n",
       "Transportation_expense_(R$)                                       0.262183   \n",
       "Distance_from_Residence_to_Work_(km)                              1.000000   \n",
       "Service_time_(years)                                              0.131730   \n",
       "Age_(years)                                                      -0.145886   \n",
       "Body_mass_index                                                   0.113772   \n",
       "\n",
       "                                      Service_time_(years)  Age_(years)  \\\n",
       "Hours_Absent                                      0.019029     0.065760   \n",
       "Transportation_expense_(R$)                      -0.349887    -0.227542   \n",
       "Distance_from_Residence_to_Work_(km)              0.131730    -0.145886   \n",
       "Service_time_(years)                              1.000000     0.670979   \n",
       "Age_(years)                                       0.670979     1.000000   \n",
       "Body_mass_index                                   0.499718     0.470688   \n",
       "\n",
       "                                      Body_mass_index  \n",
       "Hours_Absent                                -0.049719  \n",
       "Transportation_expense_(R$)                 -0.136517  \n",
       "Distance_from_Residence_to_Work_(km)         0.113772  \n",
       "Service_time_(years)                         0.499718  \n",
       "Age_(years)                                  0.470688  \n",
       "Body_mass_index                              1.000000  "
      ]
     },
     "execution_count": 33,
     "metadata": {},
     "output_type": "execute_result"
    }
   ],
   "source": [
    "# define variables\n",
    "var = ['Hours_Absent','Transportation_expense_(R$)', 'Distance_from_Residence_to_Work_(km)','Service_time_(years)',\n",
    "      'Age_(years)','Body_mass_index']\n",
    "\n",
    "# digital correlation matrix\n",
    "abs_data[var].corr()"
   ]
  },
  {
   "cell_type": "code",
   "execution_count": 34,
   "metadata": {},
   "outputs": [
    {
     "data": {
      "image/png": "[encoded data removed]",
      "text/plain": [
       "<Figure size 792x648 with 2 Axes>"
      ]
     },
     "metadata": {},
     "output_type": "display_data"
    }
   ],
   "source": [
    "def plot_corr_matrix(CORR_MATRIX):\n",
    "    # Generate a mask for the upper triangle\n",
    "    mask = np.zeros_like(CORR_MATRIX, dtype=np.bool)\n",
    "    mask[np.triu_indices_from(mask)] = True\n",
    "    \n",
    "    # Set up the matplotlib figure\n",
    "    f, ax = plt.subplots(figsize=(11, 9))\n",
    "    \n",
    "    # Draw the heatmap with the mask and correct aspect ratio\n",
    "    sns.heatmap(CORR_MATRIX, mask=mask, cmap='seismic', vmax=1, center=0, vmin=-1, square=True, linewidths=.5, annot= True)\n",
    "\n",
    "# Compute the correlation matrix\n",
    "CM = abs_data[var].corr()\n",
    "plot_corr_matrix( CM)"
   ]
  },
  {
   "cell_type": "code",
   "execution_count": 35,
   "metadata": {},
   "outputs": [
    {
     "data": {
      "text/plain": [
       "array([[1.38629436],\n",
       "       [0.        ],\n",
       "       [0.69314718],\n",
       "       [1.38629436],\n",
       "       [0.69314718],\n",
       "       [0.69314718],\n",
       "       [2.07944154],\n",
       "       [1.38629436],\n",
       "       [3.68887945],\n",
       "       [2.07944154],\n",
       "       [2.07944154],\n",
       "       [2.07944154],\n",
       "       [2.07944154],\n",
       "       [0.        ],\n",
       "       [1.38629436],\n",
       "       [2.07944154],\n",
       "       [0.69314718],\n",
       "       [2.07944154],\n",
       "       [2.07944154],\n",
       "       [0.69314718],\n",
       "       [2.07944154],\n",
       "       [0.        ],\n",
       "       [3.68887945],\n",
       "       [1.38629436],\n",
       "       [2.07944154],\n",
       "       [1.94591015],\n",
       "       [0.        ],\n",
       "       [1.38629436],\n",
       "       [2.07944154],\n",
       "       [0.69314718],\n",
       "       [2.07944154],\n",
       "       [2.07944154],\n",
       "       [1.38629436],\n",
       "       [2.07944154],\n",
       "       [0.69314718],\n",
       "       [0.        ],\n",
       "       [2.07944154],\n",
       "       [1.38629436],\n",
       "       [2.07944154],\n",
       "       [1.38629436],\n",
       "       [0.69314718],\n",
       "       [1.38629436],\n",
       "       [1.38629436],\n",
       "       [2.07944154],\n",
       "       [0.69314718],\n",
       "       [1.09861229],\n",
       "       [1.09861229],\n",
       "       [1.38629436],\n",
       "       [2.07944154],\n",
       "       [3.4657359 ],\n",
       "       [0.        ],\n",
       "       [0.        ],\n",
       "       [0.69314718],\n",
       "       [0.69314718],\n",
       "       [0.        ],\n",
       "       [0.        ],\n",
       "       [1.09861229],\n",
       "       [1.09861229],\n",
       "       [0.        ],\n",
       "       [0.        ],\n",
       "       [1.09861229],\n",
       "       [1.38629436],\n",
       "       [1.09861229],\n",
       "       [1.09861229],\n",
       "       [0.        ],\n",
       "       [0.        ],\n",
       "       [1.09861229],\n",
       "       [1.09861229],\n",
       "       [1.09861229],\n",
       "       [0.69314718],\n",
       "       [0.69314718],\n",
       "       [1.60943791],\n",
       "       [2.07944154],\n",
       "       [1.09861229],\n",
       "       [2.77258872],\n",
       "       [2.07944154],\n",
       "       [0.69314718],\n",
       "       [2.07944154],\n",
       "       [0.        ],\n",
       "       [1.09861229],\n",
       "       [0.        ],\n",
       "       [0.        ],\n",
       "       [2.07944154],\n",
       "       [2.07944154],\n",
       "       [1.60943791],\n",
       "       [3.4657359 ],\n",
       "       [2.07944154],\n",
       "       [3.68887945],\n",
       "       [0.        ],\n",
       "       [2.07944154],\n",
       "       [1.09861229],\n",
       "       [2.07944154],\n",
       "       [1.09861229],\n",
       "       [1.38629436],\n",
       "       [0.        ],\n",
       "       [1.09861229],\n",
       "       [3.17805383],\n",
       "       [1.09861229],\n",
       "       [0.        ],\n",
       "       [4.15888308],\n",
       "       [0.69314718],\n",
       "       [2.07944154],\n",
       "       [0.69314718],\n",
       "       [2.07944154],\n",
       "       [4.02535169],\n",
       "       [2.07944154],\n",
       "       [1.09861229],\n",
       "       [1.09861229],\n",
       "       [0.69314718],\n",
       "       [2.07944154],\n",
       "       [0.69314718],\n",
       "       [2.07944154],\n",
       "       [0.69314718],\n",
       "       [0.        ],\n",
       "       [0.        ],\n",
       "       [0.        ],\n",
       "       [2.07944154],\n",
       "       [0.69314718],\n",
       "       [0.69314718],\n",
       "       [0.69314718],\n",
       "       [0.        ],\n",
       "       [0.69314718],\n",
       "       [0.69314718],\n",
       "       [0.69314718],\n",
       "       [0.69314718],\n",
       "       [0.69314718],\n",
       "       [0.69314718],\n",
       "       [0.69314718],\n",
       "       [0.69314718],\n",
       "       [2.07944154],\n",
       "       [2.07944154],\n",
       "       [0.69314718],\n",
       "       [0.69314718],\n",
       "       [0.69314718],\n",
       "       [0.        ],\n",
       "       [0.        ],\n",
       "       [1.09861229],\n",
       "       [0.        ],\n",
       "       [2.07944154],\n",
       "       [2.07944154],\n",
       "       [0.69314718],\n",
       "       [2.07944154],\n",
       "       [0.69314718],\n",
       "       [2.07944154],\n",
       "       [2.07944154],\n",
       "       [2.07944154],\n",
       "       [0.69314718],\n",
       "       [0.69314718],\n",
       "       [0.        ],\n",
       "       [2.07944154],\n",
       "       [1.09861229],\n",
       "       [2.07944154],\n",
       "       [0.        ],\n",
       "       [0.        ],\n",
       "       [2.07944154],\n",
       "       [0.69314718],\n",
       "       [2.07944154],\n",
       "       [1.09861229],\n",
       "       [2.07944154],\n",
       "       [2.07944154],\n",
       "       [2.07944154],\n",
       "       [2.07944154],\n",
       "       [1.09861229],\n",
       "       [3.68887945],\n",
       "       [3.68887945],\n",
       "       [2.77258872],\n",
       "       [2.77258872],\n",
       "       [2.07944154],\n",
       "       [2.07944154],\n",
       "       [2.07944154],\n",
       "       [1.38629436],\n",
       "       [0.        ],\n",
       "       [2.07944154],\n",
       "       [3.17805383],\n",
       "       [0.69314718],\n",
       "       [2.07944154],\n",
       "       [0.        ],\n",
       "       [2.07944154],\n",
       "       [2.77258872],\n",
       "       [1.09861229],\n",
       "       [2.77258872],\n",
       "       [0.69314718],\n",
       "       [1.09861229],\n",
       "       [0.        ],\n",
       "       [0.        ],\n",
       "       [0.        ],\n",
       "       [0.        ],\n",
       "       [3.17805383],\n",
       "       [0.        ],\n",
       "       [0.69314718],\n",
       "       [1.38629436],\n",
       "       [3.17805383],\n",
       "       [0.        ],\n",
       "       [1.09861229],\n",
       "       [2.07944154],\n",
       "       [0.        ],\n",
       "       [2.07944154],\n",
       "       [4.02535169],\n",
       "       [2.07944154],\n",
       "       [3.17805383],\n",
       "       [2.07944154],\n",
       "       [2.77258872],\n",
       "       [1.09861229],\n",
       "       [0.        ],\n",
       "       [2.07944154],\n",
       "       [0.69314718],\n",
       "       [0.        ],\n",
       "       [2.07944154],\n",
       "       [2.07944154],\n",
       "       [1.38629436],\n",
       "       [0.69314718],\n",
       "       [0.        ],\n",
       "       [3.17805383],\n",
       "       [0.        ],\n",
       "       [0.        ],\n",
       "       [0.        ],\n",
       "       [0.        ],\n",
       "       [0.        ],\n",
       "       [3.17805383],\n",
       "       [2.07944154],\n",
       "       [2.07944154],\n",
       "       [2.07944154],\n",
       "       [3.17805383],\n",
       "       [1.38629436],\n",
       "       [2.07944154],\n",
       "       [2.07944154],\n",
       "       [1.38629436],\n",
       "       [2.07944154],\n",
       "       [2.07944154],\n",
       "       [2.77258872],\n",
       "       [0.        ],\n",
       "       [4.38202663],\n",
       "       [2.07944154],\n",
       "       [0.69314718],\n",
       "       [0.69314718],\n",
       "       [0.69314718],\n",
       "       [2.77258872],\n",
       "       [2.07944154],\n",
       "       [2.07944154],\n",
       "       [1.38629436],\n",
       "       [2.07944154],\n",
       "       [2.07944154],\n",
       "       [0.69314718],\n",
       "       [2.07944154],\n",
       "       [2.07944154],\n",
       "       [1.09861229],\n",
       "       [2.07944154],\n",
       "       [2.07944154],\n",
       "       [2.07944154],\n",
       "       [3.4657359 ],\n",
       "       [2.07944154],\n",
       "       [0.        ],\n",
       "       [2.07944154],\n",
       "       [1.09861229],\n",
       "       [0.        ],\n",
       "       [2.07944154],\n",
       "       [0.        ],\n",
       "       [0.69314718],\n",
       "       [1.38629436],\n",
       "       [1.38629436],\n",
       "       [0.        ],\n",
       "       [2.07944154],\n",
       "       [0.        ],\n",
       "       [1.09861229],\n",
       "       [0.69314718],\n",
       "       [0.        ],\n",
       "       [0.        ],\n",
       "       [2.07944154],\n",
       "       [2.07944154],\n",
       "       [2.07944154],\n",
       "       [2.07944154],\n",
       "       [1.09861229],\n",
       "       [3.17805383],\n",
       "       [0.        ],\n",
       "       [2.77258872],\n",
       "       [1.09861229],\n",
       "       [0.        ],\n",
       "       [0.        ],\n",
       "       [2.07944154],\n",
       "       [3.4657359 ],\n",
       "       [0.        ],\n",
       "       [1.38629436],\n",
       "       [1.38629436],\n",
       "       [2.07944154],\n",
       "       [0.        ],\n",
       "       [0.        ],\n",
       "       [1.09861229],\n",
       "       [3.68887945],\n",
       "       [2.07944154],\n",
       "       [2.07944154],\n",
       "       [1.38629436],\n",
       "       [2.07944154],\n",
       "       [2.07944154],\n",
       "       [0.        ],\n",
       "       [0.        ],\n",
       "       [2.07944154],\n",
       "       [1.09861229],\n",
       "       [2.07944154],\n",
       "       [0.        ],\n",
       "       [4.15888308],\n",
       "       [0.        ],\n",
       "       [2.77258872],\n",
       "       [1.09861229],\n",
       "       [0.        ],\n",
       "       [0.69314718],\n",
       "       [0.69314718],\n",
       "       [0.        ],\n",
       "       [1.38629436],\n",
       "       [2.77258872],\n",
       "       [0.        ],\n",
       "       [2.07944154],\n",
       "       [0.        ],\n",
       "       [0.        ],\n",
       "       [0.        ],\n",
       "       [1.60943791],\n",
       "       [1.60943791],\n",
       "       [0.        ],\n",
       "       [2.07944154],\n",
       "       [0.69314718],\n",
       "       [2.07944154],\n",
       "       [1.09861229],\n",
       "       [0.        ],\n",
       "       [2.07944154],\n",
       "       [4.78749174],\n",
       "       [2.07944154],\n",
       "       [0.        ],\n",
       "       [0.        ],\n",
       "       [1.09861229],\n",
       "       [0.69314718],\n",
       "       [1.09861229],\n",
       "       [2.07944154],\n",
       "       [1.38629436],\n",
       "       [2.07944154],\n",
       "       [0.        ],\n",
       "       [2.07944154],\n",
       "       [2.07944154],\n",
       "       [0.        ],\n",
       "       [0.        ],\n",
       "       [0.        ],\n",
       "       [1.09861229],\n",
       "       [0.69314718],\n",
       "       [0.        ],\n",
       "       [1.09861229],\n",
       "       [0.        ],\n",
       "       [1.38629436],\n",
       "       [2.07944154],\n",
       "       [0.        ],\n",
       "       [0.        ],\n",
       "       [0.        ],\n",
       "       [2.07944154],\n",
       "       [0.69314718],\n",
       "       [0.        ],\n",
       "       [2.07944154],\n",
       "       [1.38629436],\n",
       "       [2.07944154],\n",
       "       [0.69314718],\n",
       "       [1.09861229],\n",
       "       [2.07944154],\n",
       "       [1.60943791],\n",
       "       [3.4657359 ],\n",
       "       [0.69314718],\n",
       "       [0.        ],\n",
       "       [1.38629436],\n",
       "       [2.07944154],\n",
       "       [2.07944154],\n",
       "       [2.07944154],\n",
       "       [1.38629436],\n",
       "       [0.        ],\n",
       "       [0.        ],\n",
       "       [0.69314718],\n",
       "       [1.09861229],\n",
       "       [0.        ],\n",
       "       [1.09861229],\n",
       "       [1.09861229],\n",
       "       [1.09861229],\n",
       "       [0.69314718],\n",
       "       [1.09861229],\n",
       "       [2.07944154],\n",
       "       [2.07944154],\n",
       "       [1.09861229],\n",
       "       [2.07944154],\n",
       "       [1.09861229],\n",
       "       [0.69314718],\n",
       "       [0.69314718],\n",
       "       [2.77258872],\n",
       "       [1.09861229],\n",
       "       [1.09861229],\n",
       "       [3.17805383],\n",
       "       [1.09861229],\n",
       "       [1.09861229],\n",
       "       [2.07944154],\n",
       "       [2.77258872],\n",
       "       [0.69314718],\n",
       "       [1.38629436],\n",
       "       [0.69314718],\n",
       "       [2.07944154],\n",
       "       [2.07944154],\n",
       "       [2.07944154],\n",
       "       [2.77258872],\n",
       "       [2.07944154],\n",
       "       [0.        ],\n",
       "       [2.07944154],\n",
       "       [0.69314718],\n",
       "       [1.09861229],\n",
       "       [2.07944154],\n",
       "       [0.        ],\n",
       "       [0.        ],\n",
       "       [0.        ],\n",
       "       [2.07944154],\n",
       "       [2.07944154],\n",
       "       [2.07944154],\n",
       "       [0.69314718],\n",
       "       [1.38629436],\n",
       "       [1.09861229],\n",
       "       [1.38629436],\n",
       "       [1.38629436],\n",
       "       [1.38629436],\n",
       "       [2.07944154],\n",
       "       [2.07944154],\n",
       "       [0.        ],\n",
       "       [4.78749174],\n",
       "       [2.07944154],\n",
       "       [1.38629436],\n",
       "       [1.38629436],\n",
       "       [0.69314718],\n",
       "       [2.77258872],\n",
       "       [0.69314718],\n",
       "       [2.07944154],\n",
       "       [1.09861229],\n",
       "       [1.38629436],\n",
       "       [0.        ],\n",
       "       [1.09861229],\n",
       "       [0.69314718],\n",
       "       [1.09861229],\n",
       "       [2.07944154],\n",
       "       [1.09861229],\n",
       "       [2.07944154],\n",
       "       [0.69314718],\n",
       "       [0.        ],\n",
       "       [2.07944154],\n",
       "       [1.09861229],\n",
       "       [1.09861229],\n",
       "       [1.09861229],\n",
       "       [0.69314718],\n",
       "       [1.38629436],\n",
       "       [1.38629436],\n",
       "       [0.        ],\n",
       "       [3.68887945],\n",
       "       [3.17805383],\n",
       "       [1.09861229],\n",
       "       [1.38629436],\n",
       "       [2.07944154],\n",
       "       [0.69314718],\n",
       "       [0.69314718],\n",
       "       [0.69314718],\n",
       "       [2.07944154],\n",
       "       [0.69314718],\n",
       "       [0.69314718],\n",
       "       [0.        ],\n",
       "       [2.07944154],\n",
       "       [0.69314718],\n",
       "       [1.38629436],\n",
       "       [2.07944154],\n",
       "       [2.07944154],\n",
       "       [2.07944154],\n",
       "       [2.07944154],\n",
       "       [1.38629436],\n",
       "       [2.07944154],\n",
       "       [2.07944154],\n",
       "       [0.        ],\n",
       "       [0.69314718],\n",
       "       [4.71849887],\n",
       "       [0.        ],\n",
       "       [0.        ],\n",
       "       [2.07944154],\n",
       "       [2.07944154],\n",
       "       [2.07944154],\n",
       "       [0.69314718],\n",
       "       [0.        ],\n",
       "       [0.69314718],\n",
       "       [1.38629436],\n",
       "       [0.        ],\n",
       "       [1.38629436],\n",
       "       [1.38629436],\n",
       "       [2.07944154],\n",
       "       [2.07944154],\n",
       "       [1.38629436],\n",
       "       [1.38629436],\n",
       "       [2.07944154],\n",
       "       [2.77258872],\n",
       "       [1.38629436],\n",
       "       [0.        ],\n",
       "       [1.60943791],\n",
       "       [0.69314718],\n",
       "       [1.09861229],\n",
       "       [0.        ],\n",
       "       [0.        ],\n",
       "       [1.09861229],\n",
       "       [0.69314718],\n",
       "       [0.69314718],\n",
       "       [2.07944154],\n",
       "       [0.        ],\n",
       "       [1.38629436],\n",
       "       [0.        ],\n",
       "       [0.69314718],\n",
       "       [2.07944154],\n",
       "       [2.07944154],\n",
       "       [0.        ],\n",
       "       [1.09861229],\n",
       "       [2.07944154],\n",
       "       [1.09861229],\n",
       "       [0.69314718],\n",
       "       [0.69314718],\n",
       "       [0.69314718],\n",
       "       [0.        ],\n",
       "       [0.69314718],\n",
       "       [2.07944154],\n",
       "       [1.09861229],\n",
       "       [1.38629436],\n",
       "       [2.07944154],\n",
       "       [1.09861229],\n",
       "       [0.        ],\n",
       "       [0.        ],\n",
       "       [2.07944154],\n",
       "       [0.        ],\n",
       "       [2.07944154],\n",
       "       [1.09861229],\n",
       "       [2.07944154],\n",
       "       [2.07944154],\n",
       "       [2.07944154],\n",
       "       [0.        ],\n",
       "       [1.09861229],\n",
       "       [0.        ],\n",
       "       [1.09861229],\n",
       "       [3.17805383],\n",
       "       [0.        ],\n",
       "       [2.07944154],\n",
       "       [2.07944154],\n",
       "       [2.07944154],\n",
       "       [1.38629436],\n",
       "       [2.07944154],\n",
       "       [0.69314718],\n",
       "       [0.69314718],\n",
       "       [1.09861229],\n",
       "       [0.        ],\n",
       "       [2.07944154],\n",
       "       [2.07944154],\n",
       "       [0.69314718],\n",
       "       [0.        ],\n",
       "       [0.        ],\n",
       "       [1.38629436],\n",
       "       [0.        ],\n",
       "       [0.69314718],\n",
       "       [2.07944154],\n",
       "       [0.69314718],\n",
       "       [3.4657359 ],\n",
       "       [0.        ],\n",
       "       [1.09861229],\n",
       "       [0.        ],\n",
       "       [1.09861229],\n",
       "       [1.09861229],\n",
       "       [1.38629436],\n",
       "       [0.69314718],\n",
       "       [2.07944154],\n",
       "       [2.07944154],\n",
       "       [2.77258872],\n",
       "       [0.69314718],\n",
       "       [1.09861229],\n",
       "       [0.69314718],\n",
       "       [4.38202663],\n",
       "       [3.17805383],\n",
       "       [2.77258872],\n",
       "       [0.69314718],\n",
       "       [0.69314718],\n",
       "       [1.09861229],\n",
       "       [0.69314718],\n",
       "       [2.07944154],\n",
       "       [1.09861229],\n",
       "       [0.69314718],\n",
       "       [2.07944154],\n",
       "       [0.69314718],\n",
       "       [1.09861229],\n",
       "       [2.07944154],\n",
       "       [1.09861229],\n",
       "       [0.69314718],\n",
       "       [2.07944154],\n",
       "       [1.09861229],\n",
       "       [2.07944154],\n",
       "       [0.69314718],\n",
       "       [1.09861229],\n",
       "       [0.69314718],\n",
       "       [0.69314718],\n",
       "       [0.69314718],\n",
       "       [0.69314718],\n",
       "       [0.69314718],\n",
       "       [0.69314718],\n",
       "       [2.07944154],\n",
       "       [1.09861229],\n",
       "       [1.09861229],\n",
       "       [1.09861229],\n",
       "       [0.69314718],\n",
       "       [0.69314718],\n",
       "       [1.09861229],\n",
       "       [1.09861229],\n",
       "       [0.69314718],\n",
       "       [0.69314718],\n",
       "       [2.07944154],\n",
       "       [0.69314718],\n",
       "       [1.60943791],\n",
       "       [1.09861229],\n",
       "       [0.69314718],\n",
       "       [0.69314718],\n",
       "       [0.69314718],\n",
       "       [0.69314718],\n",
       "       [0.69314718],\n",
       "       [0.69314718],\n",
       "       [0.69314718],\n",
       "       [0.69314718],\n",
       "       [0.69314718],\n",
       "       [0.69314718],\n",
       "       [1.09861229],\n",
       "       [1.09861229],\n",
       "       [4.71849887],\n",
       "       [0.69314718],\n",
       "       [0.69314718],\n",
       "       [1.09861229],\n",
       "       [0.69314718],\n",
       "       [1.09861229],\n",
       "       [1.09861229],\n",
       "       [2.07944154],\n",
       "       [2.07944154],\n",
       "       [0.69314718],\n",
       "       [1.09861229],\n",
       "       [0.69314718],\n",
       "       [1.38629436],\n",
       "       [0.69314718],\n",
       "       [1.09861229],\n",
       "       [2.07944154],\n",
       "       [0.69314718],\n",
       "       [2.07944154],\n",
       "       [0.69314718],\n",
       "       [0.69314718],\n",
       "       [1.09861229],\n",
       "       [1.09861229],\n",
       "       [0.69314718],\n",
       "       [1.09861229],\n",
       "       [1.09861229],\n",
       "       [2.07944154],\n",
       "       [3.17805383],\n",
       "       [1.09861229],\n",
       "       [1.09861229],\n",
       "       [0.69314718],\n",
       "       [4.6443909 ],\n",
       "       [2.07944154],\n",
       "       [2.07944154],\n",
       "       [2.07944154],\n",
       "       [2.07944154],\n",
       "       [2.07944154],\n",
       "       [2.07944154],\n",
       "       [0.69314718],\n",
       "       [3.17805383],\n",
       "       [0.69314718],\n",
       "       [1.09861229],\n",
       "       [0.69314718],\n",
       "       [0.69314718],\n",
       "       [2.07944154],\n",
       "       [0.69314718],\n",
       "       [2.07944154],\n",
       "       [1.09861229],\n",
       "       [0.69314718],\n",
       "       [1.38629436],\n",
       "       [2.07944154],\n",
       "       [0.69314718],\n",
       "       [0.69314718],\n",
       "       [2.07944154],\n",
       "       [1.09861229],\n",
       "       [0.69314718],\n",
       "       [1.09861229],\n",
       "       [2.07944154],\n",
       "       [0.        ],\n",
       "       [0.69314718],\n",
       "       [2.07944154],\n",
       "       [4.15888308],\n",
       "       [2.07944154],\n",
       "       [0.69314718],\n",
       "       [0.69314718],\n",
       "       [1.09861229],\n",
       "       [0.        ],\n",
       "       [0.        ],\n",
       "       [0.69314718],\n",
       "       [0.        ],\n",
       "       [0.        ],\n",
       "       [3.87120101],\n",
       "       [2.07944154],\n",
       "       [2.07944154],\n",
       "       [2.07944154],\n",
       "       [1.09861229],\n",
       "       [2.07944154],\n",
       "       [0.69314718],\n",
       "       [0.69314718],\n",
       "       [0.69314718],\n",
       "       [2.07944154],\n",
       "       [0.69314718],\n",
       "       [2.07944154],\n",
       "       [2.07944154],\n",
       "       [0.        ],\n",
       "       [2.07944154],\n",
       "       [1.09861229],\n",
       "       [2.07944154],\n",
       "       [2.07944154],\n",
       "       [2.07944154],\n",
       "       [3.17805383],\n",
       "       [2.07944154],\n",
       "       [0.69314718],\n",
       "       [0.        ],\n",
       "       [0.        ],\n",
       "       [1.09861229],\n",
       "       [0.69314718],\n",
       "       [0.69314718],\n",
       "       [1.09861229],\n",
       "       [1.09861229],\n",
       "       [2.07944154],\n",
       "       [0.69314718],\n",
       "       [1.09861229],\n",
       "       [1.09861229],\n",
       "       [1.38629436],\n",
       "       [0.69314718],\n",
       "       [2.07944154],\n",
       "       [1.38629436],\n",
       "       [4.78749174],\n",
       "       [2.77258872],\n",
       "       [0.69314718],\n",
       "       [2.07944154],\n",
       "       [2.07944154],\n",
       "       [4.38202663],\n",
       "       [2.07944154],\n",
       "       [1.38629436],\n",
       "       [0.        ],\n",
       "       [0.        ],\n",
       "       [0.        ]])"
      ]
     },
     "execution_count": 35,
     "metadata": {},
     "output_type": "execute_result"
    }
   ],
   "source": [
    "scaler = StandardScaler(copy=True, with_mean=True, with_std=True)\n",
    "\n",
    "abs_data.Hours_Norm.values.reshape(-1,1)"
   ]
  },
  {
   "cell_type": "code",
   "execution_count": 36,
   "metadata": {},
   "outputs": [
    {
     "name": "stderr",
     "output_type": "stream",
     "text": [
      "C:\\Users\\saraa\\Anaconda3\\lib\\site-packages\\sklearn\\utils\\validation.py:475: DataConversionWarning: Data with input dtype int64 was converted to float64 by StandardScaler.\n",
      "  warnings.warn(msg, DataConversionWarning)\n",
      "C:\\Users\\saraa\\Anaconda3\\lib\\site-packages\\sklearn\\utils\\validation.py:475: DataConversionWarning: Data with input dtype int64 was converted to float64 by StandardScaler.\n",
      "  warnings.warn(msg, DataConversionWarning)\n"
     ]
    },
    {
     "data": {
      "image/png": "[encoded data removed]",
      "text/plain": [
       "<Figure size 792x648 with 2 Axes>"
      ]
     },
     "metadata": {},
     "output_type": "display_data"
    }
   ],
   "source": [
    "centered_data = scaler.fit_transform(abs_data[var].values)\n",
    "df_cd = pd.DataFrame(data = centered_data, columns= abs_data[var].columns)\n",
    "\n",
    "CM_centered = df_cd.corr()\n",
    "plot_corr_matrix(CM_centered)"
   ]
  },
  {
   "cell_type": "markdown",
   "metadata": {},
   "source": [
    "<h2>4.8. Comparing Differences</h2>\n",
    "Comparing the mean number of hours missed in each season shows a p-value of 1.0, meaning there is little significance in the differences between the means of each season."
   ]
  },
  {
   "cell_type": "code",
   "execution_count": 37,
   "metadata": {},
   "outputs": [
    {
     "data": {
      "text/plain": [
       "<matplotlib.axes._subplots.AxesSubplot at 0x1eb45a48a58>"
      ]
     },
     "execution_count": 37,
     "metadata": {},
     "output_type": "execute_result"
    },
    {
     "data": {
      "image/png": "[encoded data removed]",
      "text/plain": [
       "<Figure size 432x288 with 1 Axes>"
      ]
     },
     "metadata": {},
     "output_type": "display_data"
    }
   ],
   "source": [
    "sns.barplot(x='Seasons', y='Hours_Absent', data=abs_data)"
   ]
  },
  {
   "cell_type": "code",
   "execution_count": 38,
   "metadata": {},
   "outputs": [
    {
     "data": {
      "text/plain": [
       "Seasons\n",
       "Fall      15.148299\n",
       "Spring    14.496215\n",
       "Summer    11.059572\n",
       "Winter    12.469465\n",
       "Name: Hours_Absent, dtype: float64"
      ]
     },
     "execution_count": 38,
     "metadata": {},
     "output_type": "execute_result"
    }
   ],
   "source": [
    "abs_data.groupby('Seasons').std()['Hours_Absent']"
   ]
  },
  {
   "cell_type": "code",
   "execution_count": 39,
   "metadata": {},
   "outputs": [
    {
     "data": {
      "text/plain": [
       "KruskalResult(statistic=16.406150975107014, pvalue=1.0)"
      ]
     },
     "execution_count": 39,
     "metadata": {},
     "output_type": "execute_result"
    }
   ],
   "source": [
    "a = abs_data.groupby(['Seasons','ID']).sum()['Hours_Absent'].reset_index()\n",
    "dp = a.pivot(values='Hours_Absent', columns='Seasons').fillna(0)\n",
    "stats.kruskal(*dp.values)"
   ]
  },
  {
   "cell_type": "markdown",
   "metadata": {},
   "source": [
    "Comparing the mean number of hours missed in each month shows a p-value of 1.0, meaning there is little significance in the differences between the means of each month."
   ]
  },
  {
   "cell_type": "code",
   "execution_count": 40,
   "metadata": {},
   "outputs": [
    {
     "data": {
      "text/plain": [
       "(array([ 0,  1,  2,  3,  4,  5,  6,  7,  8,  9, 10, 11, 12]),\n",
       " <a list of 13 Text xticklabel objects>)"
      ]
     },
     "execution_count": 40,
     "metadata": {},
     "output_type": "execute_result"
    },
    {
     "data": {
      "image/png": "[encoded data removed]",
      "text/plain": [
       "<Figure size 432x288 with 1 Axes>"
      ]
     },
     "metadata": {},
     "output_type": "display_data"
    }
   ],
   "source": [
    "sns.barplot(x='Months', y='Hours_Absent', data=abs_data)\n",
    "plt.xticks(x='Months', rotation='vertical')"
   ]
  },
  {
   "cell_type": "code",
   "execution_count": 41,
   "metadata": {},
   "outputs": [
    {
     "data": {
      "text/plain": [
       "Months\n",
       "April          9.094340\n",
       "August         5.333333\n",
       "December       8.448980\n",
       "February       4.083333\n",
       "January        4.440000\n",
       "July          10.955224\n",
       "June           7.611111\n",
       "March          8.793103\n",
       "May            6.250000\n",
       "No_absence     0.000000\n",
       "November       7.507937\n",
       "October        4.915493\n",
       "September      5.509434\n",
       "Name: Hours_Absent, dtype: float64"
      ]
     },
     "execution_count": 41,
     "metadata": {},
     "output_type": "execute_result"
    }
   ],
   "source": [
    "abs_data.groupby('Months').mean()['Hours_Absent']"
   ]
  },
  {
   "cell_type": "code",
   "execution_count": 42,
   "metadata": {},
   "outputs": [
    {
     "data": {
      "text/plain": [
       "Months\n",
       "April         18.023771\n",
       "August         5.749487\n",
       "December      16.049482\n",
       "February       3.710472\n",
       "January        5.785838\n",
       "July          21.546590\n",
       "June          12.358507\n",
       "March         16.893055\n",
       "May           10.314114\n",
       "No_absence     0.000000\n",
       "November      16.121387\n",
       "October        8.054717\n",
       "September      8.407009\n",
       "Name: Hours_Absent, dtype: float64"
      ]
     },
     "execution_count": 42,
     "metadata": {},
     "output_type": "execute_result"
    }
   ],
   "source": [
    "abs_data.groupby('Months').std()['Hours_Absent']"
   ]
  },
  {
   "cell_type": "code",
   "execution_count": 43,
   "metadata": {},
   "outputs": [
    {
     "data": {
      "text/plain": [
       "KruskalResult(statistic=15.504733311516647, pvalue=1.0)"
      ]
     },
     "execution_count": 43,
     "metadata": {},
     "output_type": "execute_result"
    }
   ],
   "source": [
    "b = abs_data.groupby(['Months','ID']).sum()['Hours_Absent'].reset_index()\n",
    "dp = b.pivot(values='Hours_Absent', columns='Months').fillna(0)\n",
    "stats.kruskal(*dp.values)"
   ]
  },
  {
   "cell_type": "code",
   "execution_count": 44,
   "metadata": {},
   "outputs": [
    {
     "data": {
      "text/html": [
       "<div>\n",
       "<style scoped>\n",
       "    .dataframe tbody tr th:only-of-type {\n",
       "        vertical-align: middle;\n",
       "    }\n",
       "\n",
       "    .dataframe tbody tr th {\n",
       "        vertical-align: top;\n",
       "    }\n",
       "\n",
       "    .dataframe thead th {\n",
       "        text-align: right;\n",
       "    }\n",
       "</style>\n",
       "<table border=\"1\" class=\"dataframe\">\n",
       "  <thead>\n",
       "    <tr style=\"text-align: right;\">\n",
       "      <th></th>\n",
       "      <th>Hours_Absent</th>\n",
       "    </tr>\n",
       "    <tr>\n",
       "      <th>Months</th>\n",
       "      <th></th>\n",
       "    </tr>\n",
       "  </thead>\n",
       "  <tbody>\n",
       "    <tr>\n",
       "      <th>April</th>\n",
       "      <td>9.094340</td>\n",
       "    </tr>\n",
       "    <tr>\n",
       "      <th>August</th>\n",
       "      <td>5.333333</td>\n",
       "    </tr>\n",
       "    <tr>\n",
       "      <th>December</th>\n",
       "      <td>8.448980</td>\n",
       "    </tr>\n",
       "    <tr>\n",
       "      <th>February</th>\n",
       "      <td>4.083333</td>\n",
       "    </tr>\n",
       "    <tr>\n",
       "      <th>January</th>\n",
       "      <td>4.440000</td>\n",
       "    </tr>\n",
       "    <tr>\n",
       "      <th>July</th>\n",
       "      <td>10.955224</td>\n",
       "    </tr>\n",
       "    <tr>\n",
       "      <th>June</th>\n",
       "      <td>7.611111</td>\n",
       "    </tr>\n",
       "    <tr>\n",
       "      <th>March</th>\n",
       "      <td>8.793103</td>\n",
       "    </tr>\n",
       "    <tr>\n",
       "      <th>May</th>\n",
       "      <td>6.250000</td>\n",
       "    </tr>\n",
       "    <tr>\n",
       "      <th>No_absence</th>\n",
       "      <td>0.000000</td>\n",
       "    </tr>\n",
       "    <tr>\n",
       "      <th>November</th>\n",
       "      <td>7.507937</td>\n",
       "    </tr>\n",
       "    <tr>\n",
       "      <th>October</th>\n",
       "      <td>4.915493</td>\n",
       "    </tr>\n",
       "    <tr>\n",
       "      <th>September</th>\n",
       "      <td>5.509434</td>\n",
       "    </tr>\n",
       "  </tbody>\n",
       "</table>\n",
       "</div>"
      ],
      "text/plain": [
       "            Hours_Absent\n",
       "Months                  \n",
       "April           9.094340\n",
       "August          5.333333\n",
       "December        8.448980\n",
       "February        4.083333\n",
       "January         4.440000\n",
       "July           10.955224\n",
       "June            7.611111\n",
       "March           8.793103\n",
       "May             6.250000\n",
       "No_absence      0.000000\n",
       "November        7.507937\n",
       "October         4.915493\n",
       "September       5.509434"
      ]
     },
     "execution_count": 44,
     "metadata": {},
     "output_type": "execute_result"
    }
   ],
   "source": [
    "pd.pivot_table(abs_data, values='Hours_Absent', index='Months', columns=None, aggfunc='mean', fill_value=None, margins=False, dropna=True, \\\n",
    "               margins_name='All')"
   ]
  },
  {
   "cell_type": "markdown",
   "metadata": {},
   "source": [
    "Comparing the mean number of hours missed in each day of the week shows a p-value of 1.0, meaning there is little significance in the differences between the means of each day."
   ]
  },
  {
   "cell_type": "code",
   "execution_count": 45,
   "metadata": {},
   "outputs": [
    {
     "data": {
      "text/plain": [
       "<matplotlib.axes._subplots.AxesSubplot at 0x1eb45b72320>"
      ]
     },
     "execution_count": 45,
     "metadata": {},
     "output_type": "execute_result"
    },
    {
     "data": {
      "image/png": "[encoded data removed]",
      "text/plain": [
       "<Figure size 432x288 with 1 Axes>"
      ]
     },
     "metadata": {},
     "output_type": "display_data"
    }
   ],
   "source": [
    "sns.barplot(x='Days', y='Hours_Absent', data=abs_data)"
   ]
  },
  {
   "cell_type": "code",
   "execution_count": 46,
   "metadata": {},
   "outputs": [
    {
     "data": {
      "text/plain": [
       "Days\n",
       "Friday       5.125000\n",
       "Monday       9.248447\n",
       "Thursday     4.424000\n",
       "Tuesday      7.980519\n",
       "Wednesday    7.147436\n",
       "Name: Hours_Absent, dtype: float64"
      ]
     },
     "execution_count": 46,
     "metadata": {},
     "output_type": "execute_result"
    }
   ],
   "source": [
    "abs_data.groupby('Days').mean()['Hours_Absent']"
   ]
  },
  {
   "cell_type": "code",
   "execution_count": 47,
   "metadata": {},
   "outputs": [
    {
     "data": {
      "text/plain": [
       "Days\n",
       "Friday        7.911110\n",
       "Monday       15.972645\n",
       "Thursday      4.265889\n",
       "Tuesday      18.027383\n",
       "Wednesday    13.267863\n",
       "Name: Hours_Absent, dtype: float64"
      ]
     },
     "execution_count": 47,
     "metadata": {},
     "output_type": "execute_result"
    }
   ],
   "source": [
    "abs_data.groupby('Days').std()['Hours_Absent']"
   ]
  },
  {
   "cell_type": "code",
   "execution_count": 48,
   "metadata": {},
   "outputs": [
    {
     "data": {
      "text/plain": [
       "KruskalResult(statistic=14.068726710220458, pvalue=1.0)"
      ]
     },
     "execution_count": 48,
     "metadata": {},
     "output_type": "execute_result"
    }
   ],
   "source": [
    "c = abs_data.groupby(['Days','ID']).sum()['Hours_Absent'].reset_index()\n",
    "dp = c.pivot(values='Hours_Absent', columns='Days').fillna(0)\n",
    "stats.kruskal(*dp.values)"
   ]
  },
  {
   "cell_type": "code",
   "execution_count": 49,
   "metadata": {},
   "outputs": [
    {
     "data": {
      "text/html": [
       "<div>\n",
       "<style scoped>\n",
       "    .dataframe tbody tr th:only-of-type {\n",
       "        vertical-align: middle;\n",
       "    }\n",
       "\n",
       "    .dataframe tbody tr th {\n",
       "        vertical-align: top;\n",
       "    }\n",
       "\n",
       "    .dataframe thead th {\n",
       "        text-align: right;\n",
       "    }\n",
       "</style>\n",
       "<table border=\"1\" class=\"dataframe\">\n",
       "  <thead>\n",
       "    <tr style=\"text-align: right;\">\n",
       "      <th></th>\n",
       "      <th>Hours_Absent</th>\n",
       "    </tr>\n",
       "    <tr>\n",
       "      <th>Days</th>\n",
       "      <th></th>\n",
       "    </tr>\n",
       "  </thead>\n",
       "  <tbody>\n",
       "    <tr>\n",
       "      <th>Friday</th>\n",
       "      <td>5.125000</td>\n",
       "    </tr>\n",
       "    <tr>\n",
       "      <th>Monday</th>\n",
       "      <td>9.248447</td>\n",
       "    </tr>\n",
       "    <tr>\n",
       "      <th>Thursday</th>\n",
       "      <td>4.424000</td>\n",
       "    </tr>\n",
       "    <tr>\n",
       "      <th>Tuesday</th>\n",
       "      <td>7.980519</td>\n",
       "    </tr>\n",
       "    <tr>\n",
       "      <th>Wednesday</th>\n",
       "      <td>7.147436</td>\n",
       "    </tr>\n",
       "  </tbody>\n",
       "</table>\n",
       "</div>"
      ],
      "text/plain": [
       "           Hours_Absent\n",
       "Days                   \n",
       "Friday         5.125000\n",
       "Monday         9.248447\n",
       "Thursday       4.424000\n",
       "Tuesday        7.980519\n",
       "Wednesday      7.147436"
      ]
     },
     "execution_count": 49,
     "metadata": {},
     "output_type": "execute_result"
    }
   ],
   "source": [
    "pd.pivot_table(abs_data, values='Hours_Absent', index='Days', columns=None, aggfunc='mean', fill_value=None, margins=False, dropna=True, \\\n",
    "               margins_name='All')"
   ]
  },
  {
   "cell_type": "markdown",
   "metadata": {},
   "source": [
    "Comparing the mean number of hours missed in each level of education shows a p-value of 0.99, meaning there is little significance in the differences between the means of each level of education."
   ]
  },
  {
   "cell_type": "code",
   "execution_count": 50,
   "metadata": {},
   "outputs": [
    {
     "data": {
      "text/plain": [
       "<matplotlib.axes._subplots.AxesSubplot at 0x1eb45bc1b38>"
      ]
     },
     "execution_count": 50,
     "metadata": {},
     "output_type": "execute_result"
    },
    {
     "data": {
      "image/png": "[encoded data removed]",
      "text/plain": [
       "<Figure size 432x288 with 1 Axes>"
      ]
     },
     "metadata": {},
     "output_type": "display_data"
    }
   ],
   "source": [
    "sns.barplot(x='Education', y='Hours_Absent', data=abs_data)"
   ]
  },
  {
   "cell_type": "code",
   "execution_count": 51,
   "metadata": {},
   "outputs": [
    {
     "data": {
      "text/plain": [
       "Education\n",
       "Graduate             6.391304\n",
       "High_school          7.189853\n",
       "Master_and_Doctor    5.250000\n",
       "Postgraduate         5.265823\n",
       "Name: Hours_Absent, dtype: float64"
      ]
     },
     "execution_count": 51,
     "metadata": {},
     "output_type": "execute_result"
    }
   ],
   "source": [
    "abs_data.groupby('Education').mean()['Hours_Absent']"
   ]
  },
  {
   "cell_type": "code",
   "execution_count": 52,
   "metadata": {},
   "outputs": [
    {
     "data": {
      "text/plain": [
       "Education\n",
       "Graduate              6.754351\n",
       "High_school          14.258617\n",
       "Master_and_Doctor     3.201562\n",
       "Postgraduate          7.962587\n",
       "Name: Hours_Absent, dtype: float64"
      ]
     },
     "execution_count": 52,
     "metadata": {},
     "output_type": "execute_result"
    }
   ],
   "source": [
    "abs_data.groupby('Education').std()['Hours_Absent']"
   ]
  },
  {
   "cell_type": "code",
   "execution_count": 53,
   "metadata": {},
   "outputs": [
    {
     "data": {
      "text/plain": [
       "KruskalResult(statistic=5.771919226786296, pvalue=0.9999999980211874)"
      ]
     },
     "execution_count": 53,
     "metadata": {},
     "output_type": "execute_result"
    }
   ],
   "source": [
    "d = abs_data.groupby(['Education','ID']).sum()['Hours_Absent'].reset_index()\n",
    "dp = d.pivot(values='Hours_Absent', columns='Education').fillna(0)\n",
    "stats.kruskal(*dp.values)"
   ]
  },
  {
   "cell_type": "code",
   "execution_count": 54,
   "metadata": {},
   "outputs": [
    {
     "data": {
      "text/html": [
       "<div>\n",
       "<style scoped>\n",
       "    .dataframe tbody tr th:only-of-type {\n",
       "        vertical-align: middle;\n",
       "    }\n",
       "\n",
       "    .dataframe tbody tr th {\n",
       "        vertical-align: top;\n",
       "    }\n",
       "\n",
       "    .dataframe thead th {\n",
       "        text-align: right;\n",
       "    }\n",
       "</style>\n",
       "<table border=\"1\" class=\"dataframe\">\n",
       "  <thead>\n",
       "    <tr style=\"text-align: right;\">\n",
       "      <th></th>\n",
       "      <th>Hours_Absent</th>\n",
       "    </tr>\n",
       "    <tr>\n",
       "      <th>Education</th>\n",
       "      <th></th>\n",
       "    </tr>\n",
       "  </thead>\n",
       "  <tbody>\n",
       "    <tr>\n",
       "      <th>Graduate</th>\n",
       "      <td>6.391304</td>\n",
       "    </tr>\n",
       "    <tr>\n",
       "      <th>High_school</th>\n",
       "      <td>7.189853</td>\n",
       "    </tr>\n",
       "    <tr>\n",
       "      <th>Master_and_Doctor</th>\n",
       "      <td>5.250000</td>\n",
       "    </tr>\n",
       "    <tr>\n",
       "      <th>Postgraduate</th>\n",
       "      <td>5.265823</td>\n",
       "    </tr>\n",
       "  </tbody>\n",
       "</table>\n",
       "</div>"
      ],
      "text/plain": [
       "                   Hours_Absent\n",
       "Education                      \n",
       "Graduate               6.391304\n",
       "High_school            7.189853\n",
       "Master_and_Doctor      5.250000\n",
       "Postgraduate           5.265823"
      ]
     },
     "execution_count": 54,
     "metadata": {},
     "output_type": "execute_result"
    }
   ],
   "source": [
    "pd.pivot_table(abs_data, values='Hours_Absent', index='Education', columns=None, aggfunc='mean', fill_value=None, margins=False, dropna=True, \\\n",
    "               margins_name='All')"
   ]
  },
  {
   "cell_type": "markdown",
   "metadata": {},
   "source": [
    "<h1>5. REGRESSION ANALYSIS</h1>"
   ]
  },
  {
   "cell_type": "code",
   "execution_count": 55,
   "metadata": {},
   "outputs": [],
   "source": [
    "%matplotlib inline \n",
    "\n",
    "import numpy as np\n",
    "import pandas as pd\n",
    "import scipy.stats as stats\n",
    "import matplotlib.pyplot as plt\n",
    "import seaborn as sns\n",
    "\n",
    "import sklearn\n",
    "from sklearn import metrics\n",
    "from sklearn.metrics import roc_auc_score\n",
    "from sklearn.metrics import roc_curve\n",
    "from sklearn.metrics import classification_report\n",
    "from sklearn.datasets import make_classification\n",
    "from sklearn.model_selection import train_test_split\n",
    "from sklearn.linear_model import LogisticRegression\n",
    "from sklearn.metrics import accuracy_score\n",
    "\n",
    "import sklearn.preprocessing as preprocessing\n",
    "import sklearn.linear_model as linear_model\n",
    "\n",
    "# special matplotlib argument for improved plots\n",
    "from matplotlib import rcParams\n",
    "sns.set_style(\"whitegrid\")\n",
    "sns.set_context(\"poster\")\n",
    "\n",
    "# Import regression modules\n",
    "import statsmodels.api as sm\n",
    "from statsmodels.formula.api import ols"
   ]
  },
  {
   "cell_type": "code",
   "execution_count": 56,
   "metadata": {},
   "outputs": [],
   "source": [
    "#Import cleaned data\n",
    "abs_data = pd.read_csv('absenteeism_cleaned.csv', delimiter = ';');"
   ]
  },
  {
   "cell_type": "markdown",
   "metadata": {},
   "source": [
    "To make a more robust analysis, the outliers with standard deviations of 3.5 or greater are removed."
   ]
  },
  {
   "cell_type": "code",
   "execution_count": 57,
   "metadata": {},
   "outputs": [],
   "source": [
    "#Removing outliers\n",
    "def reject_outliers(abs_data):\n",
    "     u = np.mean(abs_data[\"Hours_Norm\"])\n",
    "     s = np.std(abs_data[\"Hours_Norm\"])\n",
    "     data_filtered = abs_data[(abs_data[\"Hours_Norm\"]>(u-3.5*s)) & (abs_data[\"Hours_Norm\"]<(u+3.5*s))]\n",
    "     return data_filtered"
   ]
  },
  {
   "cell_type": "markdown",
   "metadata": {},
   "source": [
    "<h2>5.1. Cohen's Kappa</h2>"
   ]
  },
  {
   "cell_type": "markdown",
   "metadata": {},
   "source": [
    "Cohen's Kappa can be used to measure inter-rater agreement for the different categorical items, and is a better measure than simple percent agreement because it factors in the likelihood of the agreement occurring at random. The accuracy score here is 75% with a Kappa value of 0.19, which shows that this accuracy is likely due to chance."
   ]
  },
  {
   "cell_type": "code",
   "execution_count": 58,
   "metadata": {},
   "outputs": [
    {
     "name": "stdout",
     "output_type": "stream",
     "text": [
      "Fitting 2 folds for each of 40 candidates, totalling 80 fits\n"
     ]
    },
    {
     "name": "stderr",
     "output_type": "stream",
     "text": [
      "[Parallel(n_jobs=3)]: Done  63 tasks      | elapsed:    5.5s\n",
      "[Parallel(n_jobs=3)]: Done  75 out of  80 | elapsed:    7.1s remaining:    0.4s\n",
      "[Parallel(n_jobs=3)]: Done  80 out of  80 | elapsed:    7.9s finished\n"
     ]
    },
    {
     "name": "stdout",
     "output_type": "stream",
     "text": [
      "75.13513513513513\n",
      "Kappa 0.19792648444863337\n"
     ]
    }
   ],
   "source": [
    "from sklearn.model_selection import GridSearchCV\n",
    "logis = LogisticRegression(class_weight = \"balanced\")\n",
    "\n",
    "# Split the data into a training and test set.\n",
    "Xdata = abs_data.drop(['Hours_Absent','Hours_Norm'],axis = 1)\n",
    "ydata = 1*(abs_data.Hours_Absent > 8)\n",
    "X_train, X_test, y_train, y_test  = train_test_split(Xdata, ydata,random_state=5)\n",
    "\n",
    "# Create an space of parameters to explore (hyper tuning)\n",
    "param_grid = { \"penalty\": ['l1','l2'],\n",
    "             'C':np.logspace(-2,1,10), 'fit_intercept':[True, False]}\n",
    "\n",
    "# create a scorer that uses the Brier score\n",
    "scorer = metrics.make_scorer(metrics.brier_score_loss)\n",
    "\n",
    "# Find the best combination of parameters\n",
    "grid = GridSearchCV(LogisticRegression(class_weight='balanced',\n",
    "                    fit_intercept=True),\n",
    "                    param_grid,\n",
    "                    scoring=scorer, \n",
    "                    cv = 2,\n",
    "                    verbose = 1,\n",
    "                    n_jobs=3)\n",
    "grid.fit(X_train, y_train)\n",
    "\n",
    "\n",
    "clf = grid.best_estimator_\n",
    "\n",
    "# Print the accuracy from the testing data.\n",
    "print(100*accuracy_score(clf.predict(X_test), y_test))\n",
    "print('Kappa',metrics.cohen_kappa_score(clf.predict(X_test), y_test))"
   ]
  },
  {
   "cell_type": "code",
   "execution_count": 59,
   "metadata": {},
   "outputs": [
    {
     "data": {
      "text/html": [
       "<div>\n",
       "<style scoped>\n",
       "    .dataframe tbody tr th:only-of-type {\n",
       "        vertical-align: middle;\n",
       "    }\n",
       "\n",
       "    .dataframe tbody tr th {\n",
       "        vertical-align: top;\n",
       "    }\n",
       "\n",
       "    .dataframe thead th {\n",
       "        text-align: right;\n",
       "    }\n",
       "</style>\n",
       "<table border=\"1\" class=\"dataframe\">\n",
       "  <thead>\n",
       "    <tr style=\"text-align: right;\">\n",
       "      <th></th>\n",
       "      <th>C</th>\n",
       "    </tr>\n",
       "  </thead>\n",
       "  <tbody>\n",
       "    <tr>\n",
       "      <th>ID</th>\n",
       "      <td>0.963217</td>\n",
       "    </tr>\n",
       "    <tr>\n",
       "      <th>Reason_for_absence</th>\n",
       "      <td>0.925700</td>\n",
       "    </tr>\n",
       "    <tr>\n",
       "      <th>Transportation_expense_(R$)</th>\n",
       "      <td>1.001506</td>\n",
       "    </tr>\n",
       "    <tr>\n",
       "      <th>Distance_from_Residence_to_Work_(km)</th>\n",
       "      <td>0.996185</td>\n",
       "    </tr>\n",
       "    <tr>\n",
       "      <th>Service_time_(years)</th>\n",
       "      <td>1.050579</td>\n",
       "    </tr>\n",
       "    <tr>\n",
       "      <th>Workload_avg/day</th>\n",
       "      <td>1.004229</td>\n",
       "    </tr>\n",
       "    <tr>\n",
       "      <th>Hit_target</th>\n",
       "      <td>0.967518</td>\n",
       "    </tr>\n",
       "    <tr>\n",
       "      <th>Weight_(kg)</th>\n",
       "      <td>1.012227</td>\n",
       "    </tr>\n",
       "    <tr>\n",
       "      <th>Height_(cm)</th>\n",
       "      <td>1.028470</td>\n",
       "    </tr>\n",
       "    <tr>\n",
       "      <th>Body_mass_index</th>\n",
       "      <td>0.898110</td>\n",
       "    </tr>\n",
       "  </tbody>\n",
       "</table>\n",
       "</div>"
      ],
      "text/plain": [
       "                                             C\n",
       "ID                                    0.963217\n",
       "Reason_for_absence                    0.925700\n",
       "Transportation_expense_(R$)           1.001506\n",
       "Distance_from_Residence_to_Work_(km)  0.996185\n",
       "Service_time_(years)                  1.050579\n",
       "Workload_avg/day                      1.004229\n",
       "Hit_target                            0.967518\n",
       "Weight_(kg)                           1.012227\n",
       "Height_(cm)                           1.028470\n",
       "Body_mass_index                       0.898110"
      ]
     },
     "execution_count": 59,
     "metadata": {},
     "output_type": "execute_result"
    }
   ],
   "source": [
    "coeff = pd.DataFrame( clf.coef_.T, index = X_train.columns, columns=['C'])\n",
    "np.exp(coeff[coeff.C  != 0])"
   ]
  },
  {
   "cell_type": "markdown",
   "metadata": {},
   "source": [
    "<h2>5.2. Confusion Matrix</h2>\n",
    "The confusion matrix can also be used to evaluate the accuracy of a classification with counts of true positives, true negatives, false positives, and false negatives."
   ]
  },
  {
   "cell_type": "code",
   "execution_count": 60,
   "metadata": {},
   "outputs": [
    {
     "name": "stdout",
     "output_type": "stream",
     "text": [
      "[[129   6]\n",
      " [ 40  10]]\n"
     ]
    }
   ],
   "source": [
    "M = metrics.confusion_matrix(clf.predict(X_test), y_test)\n",
    "print(M)"
   ]
  },
  {
   "cell_type": "code",
   "execution_count": 61,
   "metadata": {},
   "outputs": [
    {
     "name": "stdout",
     "output_type": "stream",
     "text": [
      "The number of true positives is 10.\n",
      "The number of true negatives is 129.\n",
      "The number of false positives is 6.\n",
      "The number of false negatives is 40.\n"
     ]
    }
   ],
   "source": [
    "TN = str(M[0,0])\n",
    "FP = str(M[0,1])\n",
    "FN = str(M[1,0])\n",
    "TP = str(M[1,1])\n",
    "\n",
    "print('The number of true positives is ' + TP + '.')\n",
    "print('The number of true negatives is ' + TN + '.')\n",
    "print('The number of false positives is ' + FP + '.')\n",
    "print('The number of false negatives is ' + FN + '.')"
   ]
  },
  {
   "cell_type": "code",
   "execution_count": 62,
   "metadata": {},
   "outputs": [
    {
     "name": "stdout",
     "output_type": "stream",
     "text": [
      "             precision    recall  f1-score   support\n",
      "\n",
      "          0       0.76      0.96      0.85       135\n",
      "          1       0.62      0.20      0.30        50\n",
      "\n",
      "avg / total       0.73      0.75      0.70       185\n",
      "\n"
     ]
    }
   ],
   "source": [
    "print(metrics.classification_report(clf.predict(X_test), y_test))"
   ]
  },
  {
   "cell_type": "markdown",
   "metadata": {},
   "source": [
    "<h2>5.3. Decision Tree Model</h2>\n",
    "Decision trees are used to predict the value of a target variable by using a tree-like model of decisions and their consequences."
   ]
  },
  {
   "cell_type": "code",
   "execution_count": 63,
   "metadata": {},
   "outputs": [
    {
     "name": "stdout",
     "output_type": "stream",
     "text": [
      "\n",
      "\n",
      " ---Decision Tree Model---\n",
      "Decision Tree AUC = 0.69\n",
      "             precision    recall  f1-score   support\n",
      "\n",
      "          0       0.95      0.88      0.91       169\n",
      "          1       0.29      0.50      0.36        16\n",
      "\n",
      "avg / total       0.89      0.85      0.87       185\n",
      "\n"
     ]
    }
   ],
   "source": [
    "# Decision Tree Model\n",
    "from sklearn import tree\n",
    "\n",
    "dtree = tree.DecisionTreeClassifier(\n",
    "    class_weight=\"balanced\",\n",
    "    min_weight_fraction_leaf=0.01\n",
    "    )\n",
    "dtree = dtree.fit(X_train,y_train)\n",
    "print (\"\\n\\n ---Decision Tree Model---\")\n",
    "dt_roc_auc = roc_auc_score(y_test, dtree.predict(X_test))\n",
    "print (\"Decision Tree AUC = %2.2f\" % dt_roc_auc)\n",
    "print(classification_report(y_test, dtree.predict(X_test)))"
   ]
  },
  {
   "cell_type": "markdown",
   "metadata": {},
   "source": [
    "<h2>5.4 Random Forest</h2>\n",
    "A random forest model uses multiple trees and output the most common categorical variable or the mean of the individual trees. Random forest corrects overfitting from decision trees."
   ]
  },
  {
   "cell_type": "code",
   "execution_count": 64,
   "metadata": {},
   "outputs": [
    {
     "name": "stdout",
     "output_type": "stream",
     "text": [
      "\n",
      "\n",
      " ---Random Forest Model---\n",
      "Random Forest AUC = 0.61\n",
      "             precision    recall  f1-score   support\n",
      "\n",
      "          0       0.93      0.97      0.95       169\n",
      "          1       0.44      0.25      0.32        16\n",
      "\n",
      "avg / total       0.89      0.91      0.90       185\n",
      "\n"
     ]
    }
   ],
   "source": [
    "# Random Forest Model\n",
    "from sklearn.ensemble import RandomForestClassifier\n",
    "\n",
    "rf = RandomForestClassifier(\n",
    "    n_estimators=1000, \n",
    "    max_depth=None, \n",
    "    min_samples_split=10, \n",
    "    class_weight=\"balanced\"\n",
    "    )\n",
    "rf.fit(X_train, y_train)\n",
    "print (\"\\n\\n ---Random Forest Model---\")\n",
    "rf_roc_auc = roc_auc_score(y_test, rf.predict(X_test))\n",
    "print (\"Random Forest AUC = %2.2f\" % rf_roc_auc)\n",
    "print(classification_report(y_test, rf.predict(X_test)))"
   ]
  },
  {
   "cell_type": "code",
   "execution_count": 65,
   "metadata": {},
   "outputs": [
    {
     "data": {
      "text/plain": [
       "0    0.915315\n",
       "1    0.084685\n",
       "Name: Hours_Absent, dtype: float64"
      ]
     },
     "execution_count": 65,
     "metadata": {},
     "output_type": "execute_result"
    }
   ],
   "source": [
    "y_train.value_counts(normalize = True)"
   ]
  },
  {
   "cell_type": "code",
   "execution_count": 66,
   "metadata": {},
   "outputs": [
    {
     "name": "stdout",
     "output_type": "stream",
     "text": [
      "Fitting 2 folds for each of 400 candidates, totalling 800 fits\n"
     ]
    },
    {
     "name": "stderr",
     "output_type": "stream",
     "text": [
      "[Parallel(n_jobs=3)]: Done 428 tasks      | elapsed:    8.3s\n",
      "[Parallel(n_jobs=3)]: Done 800 out of 800 | elapsed:   39.4s finished\n"
     ]
    },
    {
     "data": {
      "text/plain": [
       "GridSearchCV(cv=2, error_score='raise',\n",
       "       estimator=LogisticRegression(C=1.0, class_weight=None, dual=False, fit_intercept=True,\n",
       "          intercept_scaling=1, max_iter=100, multi_class='ovr', n_jobs=1,\n",
       "          penalty='l2', random_state=None, solver='liblinear', tol=0.0001,\n",
       "          verbose=0, warm_start=False),\n",
       "       fit_params=None, iid=True, n_jobs=3,\n",
       "       param_grid={'penalty': ['l2', 'l1'], 'C': array([1.00000e-03, 1.09750e-03, ..., 9.11163e+00, 1.00000e+01]), 'fit_intercept': [True, False], 'class_weight': ['balanced']},\n",
       "       pre_dispatch='2*n_jobs', refit=True, return_train_score='warn',\n",
       "       scoring=make_scorer(brier_score_loss), verbose=1)"
      ]
     },
     "execution_count": 66,
     "metadata": {},
     "output_type": "execute_result"
    }
   ],
   "source": [
    "grid_pars = dict( penalty = ['l2','l1'],\n",
    "                 C = np.logspace(-3,1,100),\n",
    "                 fit_intercept= [True, False],\n",
    "                 class_weight=['balanced']\n",
    "                 )\n",
    "\n",
    "clf = GridSearchCV(LogisticRegression(), grid_pars, cv = 2, verbose=1, \n",
    "                   n_jobs=3, scoring= metrics.make_scorer(metrics.brier_score_loss))\n",
    "clf.fit(X_train, y_train)"
   ]
  },
  {
   "cell_type": "code",
   "execution_count": 67,
   "metadata": {},
   "outputs": [
    {
     "name": "stdout",
     "output_type": "stream",
     "text": [
      "             precision    recall  f1-score   support\n",
      "\n",
      "          0       0.00      0.00      0.00         0\n",
      "          1       1.00      0.08      0.16       555\n",
      "\n",
      "avg / total       1.00      0.08      0.16       555\n",
      "\n"
     ]
    },
    {
     "name": "stderr",
     "output_type": "stream",
     "text": [
      "C:\\Users\\saraa\\Anaconda3\\lib\\site-packages\\sklearn\\metrics\\classification.py:1137: UndefinedMetricWarning: Recall and F-score are ill-defined and being set to 0.0 in labels with no true samples.\n",
      "  'recall', 'true', average, warn_for)\n"
     ]
    }
   ],
   "source": [
    "print(metrics.classification_report(clf.predict(X_train),y_train))"
   ]
  },
  {
   "cell_type": "code",
   "execution_count": 68,
   "metadata": {},
   "outputs": [
    {
     "data": {
      "image/png": "[encoded data removed]",
      "text/plain": [
       "<Figure size 432x288 with 1 Axes>"
      ]
     },
     "metadata": {},
     "output_type": "display_data"
    }
   ],
   "source": [
    "rf_fpr, rf_tpr, rf_thresholds = roc_curve(y_test, rf.predict_proba(X_test)[:,1])\n",
    "\n",
    "# Plot Random Forest ROC\n",
    "\n",
    "plt.plot(rf_fpr, rf_tpr, label='Random Forest (area = %0.2f)' % rf_roc_auc)\n",
    "\n",
    "plt.xlim([0.0, 1.0])\n",
    "plt.ylim([0.0, 1.05])\n",
    "plt.xlabel('False Positive Rate')\n",
    "plt.ylabel('True Positive Rate')\n",
    "plt.title('ROC Graph')\n",
    "plt.legend(loc=\"lower right\")\n",
    "plt.show()"
   ]
  },
  {
   "cell_type": "markdown",
   "metadata": {},
   "source": [
    "<h2>5.5. Sensitivity, Specificty, Predictive Values</h2>"
   ]
  },
  {
   "cell_type": "code",
   "execution_count": 69,
   "metadata": {},
   "outputs": [
    {
     "name": "stdout",
     "output_type": "stream",
     "text": [
      "Fitting 2 folds for each of 15840 candidates, totalling 31680 fits\n"
     ]
    },
    {
     "name": "stderr",
     "output_type": "stream",
     "text": [
      "[Parallel(n_jobs=3)]: Done 1186 tasks      | elapsed:    2.4s\n",
      "[Parallel(n_jobs=3)]: Done 11986 tasks      | elapsed:    9.9s\n",
      "[Parallel(n_jobs=3)]: Done 29986 tasks      | elapsed:   23.3s\n",
      "[Parallel(n_jobs=3)]: Done 31680 out of 31680 | elapsed:   24.9s finished\n"
     ]
    },
    {
     "name": "stdout",
     "output_type": "stream",
     "text": [
      "        5%    50%    95%\n",
      "SEN  0.715  0.820  0.916\n",
      "SPC  0.875  0.976  1.000\n",
      "AUC  0.844  0.873  0.942\n",
      "PPV  0.898  0.977  1.000\n",
      "NPV  0.720  0.798  0.904\n"
     ]
    },
    {
     "data": {
      "image/png": "[encoded data removed]",
      "text/plain": [
       "<Figure size 1440x1440 with 1 Axes>"
      ]
     },
     "metadata": {},
     "output_type": "display_data"
    }
   ],
   "source": [
    "def my_confusion_matrix(test_prediction, true_labels):\n",
    "    m = pd.crosstab(test_prediction, true_labels)\n",
    "    CM = m[[1,0]].sort_index(ascending = False)\n",
    "    \n",
    "    CM.index=['YES_test','NO_Test']\n",
    "    CM.columns=['YES_disease','NO_disease']\n",
    "    \n",
    "    return CM\n",
    "\n",
    "def get_pars(test_prediction, true_labels):\n",
    "    CM = my_confusion_matrix(test_prediction, true_labels)\n",
    "    CM = np.array(CM)\n",
    "    \n",
    "    TP = CM[0,0]\n",
    "    FN = CM[1,0]\n",
    "    FP = CM[0,1]\n",
    "    TN = CM[1,1]\n",
    "    \n",
    "    return TP, FN, FP, TN\n",
    " \n",
    "def sensitivity(test_prediction, true_labels):\n",
    "    TP, FN, _, _  =get_pars(test_prediction, true_labels)\n",
    "    \n",
    "    if (TP+FN) == 0:\n",
    "        SEN = 0\n",
    "    else:\n",
    "        SEN = TP / (TP  + FN)\n",
    "    \n",
    "    return SEN\n",
    "\n",
    "def specificity(test_prediction, true_labels):\n",
    "    _, _, FP, TN  =get_pars(test_prediction, true_labels)\n",
    "    \n",
    "    if (FP  + TN) == 0:\n",
    "        SPC = 0\n",
    "    else:\n",
    "        SPC = TN / (FP  + TN)\n",
    "    \n",
    "    return SPC\n",
    "\n",
    "\n",
    "def positive_predictive_value(test_prediction, true_labels):\n",
    "    TP, _, FP, _  =get_pars(test_prediction, true_labels)\n",
    "    \n",
    "    if (TP  + FP) == 0:\n",
    "        PPV = 0\n",
    "    else:\n",
    "        PPV = TP/(TP+FP)\n",
    "    \n",
    "    return PPV\n",
    "\n",
    "\n",
    "def negative_predictive_value(test_prediction, true_labels):\n",
    "    _, FN, _, TN  =get_pars(test_prediction, true_labels)\n",
    "    \n",
    "    if (TN  + FN) == 0:\n",
    "        NPV = 0\n",
    "    else:\n",
    "        NPV = TN/(TN  + FN)\n",
    "    \n",
    "    return NPV\n",
    "\n",
    "\n",
    "def my_metrics(test_prediction, true_labels):\n",
    "    y_hat, ytrue = test_prediction, true_labels\n",
    "    SEN = sensitivity(y_hat, ytrue)\n",
    "    SPC = specificity(y_hat, ytrue)\n",
    "    PPV = positive_predictive_value(y_hat, ytrue)\n",
    "    NPV = negative_predictive_value(y_hat, ytrue)\n",
    "    AUC = metrics.roc_auc_score(ytrue,y_hat)\n",
    "    \n",
    "    return SEN, SPC, AUC, PPV, NPV\n",
    "\n",
    "\n",
    "from sklearn.utils import resample\n",
    "\n",
    "def clf_metric_bootstrap(Classifier, Predictors, Outcome, N=10):\n",
    "    _metrics = pd.DataFrame(index=['SEN', 'SPC', 'AUC', 'PPV', 'NPV'])\n",
    "    for i in range(N):\n",
    "        Xrs, yrs = resample(Predictors, Outcome)\n",
    "        _metrics[i] = my_metrics(Classifier.predict(Xrs), yrs)\n",
    "    \n",
    "    _metrics = _metrics.T\n",
    "    \n",
    "    bs_metrics= pd.DataFrame(index = _metrics.columns, \n",
    "                             columns=['5%','50%','95%'])\n",
    "    \n",
    "    \n",
    "    bs_metrics['5%'] = _metrics.apply(lambda x: np.percentile(x,5))\n",
    "    bs_metrics['50%'] = _metrics.apply(lambda x: np.percentile(x,50))\n",
    "    bs_metrics['95%'] = _metrics.apply(lambda x: np.percentile(x,95))\n",
    "    \n",
    "    return bs_metrics.round(3), _metrics.round(3)\n",
    "\n",
    "#%% \n",
    "# Syntethic Data\n",
    "X, y= make_classification(n_samples=50, n_features=12, n_informative=2) \n",
    "\n",
    "# Train the model using all the data (NO train and test)\n",
    "par_grid = dict( penalty = ['l2','l1'],\n",
    "                 C = np.logspace(-3,1,20),\n",
    "                 fit_intercept= [True, False],\n",
    "                 random_state=  np.arange(1,100),\n",
    "                 class_weight=[None,'balanced']\n",
    "                 )\n",
    "\n",
    "\n",
    "clf = GridSearchCV(LogisticRegression(), par_grid, cv = 2, verbose=1, \n",
    "                   n_jobs=3)\n",
    "clf.fit(X, y)\n",
    "#%% Measure Performance\n",
    "clf_metrics, metric_data = clf_metric_bootstrap(clf,X,y)\n",
    "print(clf_metrics)\n",
    "\n",
    "metric_data.boxplot(figsize=(20,20))\n",
    "plt.show() "
   ]
  },
  {
   "cell_type": "markdown",
   "metadata": {},
   "source": [
    "<h2>5.6. Coefficients</h2>"
   ]
  },
  {
   "cell_type": "code",
   "execution_count": 70,
   "metadata": {},
   "outputs": [
    {
     "name": "stdout",
     "output_type": "stream",
     "text": [
      "Injury                         0.595017\n",
      "Musculoskeletal                0.520423\n",
      "Height_(cm)                    0.466445\n",
      "July                           0.385321\n",
      "Circulatory                    0.369512\n",
      "Skin                           0.369462\n",
      "Transportation_expense_(R$)    0.368707\n",
      "Service_time_(years)           0.303818\n",
      "Neoplasms                      0.271690\n",
      "Eye                            0.222390\n",
      "Age_(years)                    0.197634\n",
      "August                         0.183676\n",
      "Monday                         0.173965\n",
      "Graduate                       0.172372\n",
      "Respiratory                    0.171193\n",
      "Seasons                        0.161667\n",
      "Genitourinary                  0.161466\n",
      "Summer                         0.158784\n",
      "No_Disciplinary_failure        0.152337\n",
      "Thursday                       0.144823\n",
      "Weight_(kg)                    0.125083\n",
      "Month_of_absence               0.114362\n",
      "Social drinker                 0.105791\n",
      "Drinker                        0.105791\n",
      "December                       0.099362\n",
      "Fall                           0.075246\n",
      "Digestive                      0.071159\n",
      "June                           0.068114\n",
      "March                          0.067384\n",
      "April                          0.066959\n",
      "                                 ...   \n",
      "Infectious                    -0.100509\n",
      "Nondrinker                    -0.105791\n",
      "Perinatal                     -0.113085\n",
      "November                      -0.114355\n",
      "Day_of_the_week               -0.115385\n",
      "Dental                        -0.121401\n",
      "Blood_donation                -0.125495\n",
      "October                       -0.147509\n",
      "Disciplinary failure          -0.152337\n",
      "Disciplinary_failure          -0.152337\n",
      "Unknown                       -0.158189\n",
      "Consultation                  -0.174026\n",
      "Tuesday                       -0.174938\n",
      "Endocrine                     -0.176868\n",
      "Ear                           -0.178954\n",
      "Friday                        -0.181091\n",
      "Contact_with_services         -0.195152\n",
      "May                           -0.197117\n",
      "Master_and_Doctor             -0.214073\n",
      "Nervous_system                -0.245868\n",
      "Physiotherapy                 -0.251335\n",
      "February                      -0.265976\n",
      "Hit_target                    -0.268520\n",
      "Winter                        -0.281615\n",
      "Lab_exam                      -0.299360\n",
      "Unjustified                   -0.325817\n",
      "Reason_for_absence            -0.344170\n",
      "Pets                          -0.407780\n",
      "Body_mass_index               -0.509403\n",
      "ID                            -0.518680\n",
      "Length: 80, dtype: float64\n"
     ]
    }
   ],
   "source": [
    "scaler = preprocessing.StandardScaler()\n",
    "\n",
    "cls = linear_model.LogisticRegression()\n",
    "\n",
    "cls.fit(X_train, y_train)\n",
    "y_pred = cls.predict(X_test)\n",
    "\n",
    "X_train = pd.DataFrame(scaler.fit_transform(X_train), columns=X_train.columns)\n",
    "cls.fit(X_train, y_train)\n",
    "coefs = pd.Series(cls.coef_[0], index=X_train.columns)\n",
    "print (coefs.sort_values(ascending = False))"
   ]
  },
  {
   "cell_type": "markdown",
   "metadata": {},
   "source": [
    "<h1>6. CONCLUSIONS</h1>\n",
    "Regression analyses showed that injury and musculoskeletal issues are the likeliest predictors of an employee missing 8 or more hours of work. Given the nature of courier work, one could expect courier employees to miss work due to these issues, though it is possible that chance plays a role in making these two issues the biggest."
   ]
  },
  {
   "cell_type": "markdown",
   "metadata": {},
   "source": [
    "<h1>7. RECOMMENDATIONS FOR CLIENTS</h1>\n",
    "Even if injuries and musculoskeletal issues being the biggest reasons for missing work is due to chance, steps can be taken to reduce the likelihood of employees getting injuries or musculoskeletal issues. Employers can issue guidelines to minimize the risk of injuries such as limits on what one person can carry at once and also minimize ergonomic hazards. Employees can exercise, stretch and make sure to get enough sleep to lower their chances of getting hurt. Public health officials can make the general public more aware of injuries on the job."
   ]
  },
  {
   "cell_type": "markdown",
   "metadata": {},
   "source": [
    "<h1>8. OTHER DATA SETS</h1>\n",
    "Courier is one type of industry, and this is one specific company, so data with the same factors from other courier companies and from other industries such as hospitality and tourism, agriculture, manufacturing, scientific research, and government employment would help to see if the industries have similar causes of workplace absenteeism, and also for public officials to more effectively target different industries in a large, diverse economy. Also, data from a longer time frame than just the 3 years in this data set could give more useful information."
   ]
  }
 ],
 "metadata": {
  "kernelspec": {
   "display_name": "Python 3",
   "language": "python",
   "name": "python3"
  },
  "language_info": {
   "codemirror_mode": {
    "name": "ipython",
    "version": 3
   },
   "file_extension": ".py",
   "mimetype": "text/x-python",
   "name": "python",
   "nbconvert_exporter": "python",
   "pygments_lexer": "ipython3",
   "version": "3.6.5"
  }
 },
 "nbformat": 4,
 "nbformat_minor": 2
}
